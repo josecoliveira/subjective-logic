{
 "cells": [
  {
   "cell_type": "code",
   "execution_count": 3,
   "id": "707d530d-25c1-4cb9-8bb7-99f4408c54bc",
   "metadata": {},
   "outputs": [
    {
     "name": "stdout",
     "output_type": "stream",
     "text": [
      "The autoreload extension is already loaded. To reload it, use:\n",
      "  %reload_ext autoreload\n"
     ]
    }
   ],
   "source": [
    "%load_ext autoreload\n",
    "%autoreload 2"
   ]
  },
  {
   "cell_type": "code",
   "execution_count": 9,
   "id": "efaccdac-fe1b-44ac-b930-0cdb0499374d",
   "metadata": {},
   "outputs": [],
   "source": [
    "from SubjectiveLogic import Hyperopinion\n",
    "from SubjectiveLogic.BeliefFusion import cumulative_fusion, averaging_fusion, weighted_fusion\n",
    "from SubjectiveLogic.Trust import trust_discount_2e\n",
    "import numpy as np"
   ]
  },
  {
   "cell_type": "markdown",
   "id": "310db694-df95-4dfa-a993-42d33b852441",
   "metadata": {},
   "source": [
    "# Model"
   ]
  },
  {
   "cell_type": "markdown",
   "id": "9299dba3-7b6e-4ce5-8352-770e9cdbd340",
   "metadata": {},
   "source": [
    "## Tests"
   ]
  },
  {
   "cell_type": "code",
   "execution_count": 31,
   "id": "10c150b9-ad94-4d36-adf5-2784a80eee87",
   "metadata": {},
   "outputs": [],
   "source": [
    "AX = Hyperopinion(2, [0.29, 0.71])\n",
    "BX = Hyperopinion(2, [0.73, 0.27])"
   ]
  },
  {
   "cell_type": "code",
   "execution_count": 32,
   "id": "69ea40af-ee8c-48da-90a8-7f8ddb23b963",
   "metadata": {},
   "outputs": [
    {
     "data": {
      "text/plain": [
       "Hyperopinion(2, [0.51 0.49], [0.5 0.5])"
      ]
     },
     "execution_count": 32,
     "metadata": {},
     "output_type": "execute_result"
    }
   ],
   "source": [
    "cumulative_fusion([AX, BX])"
   ]
  },
  {
   "cell_type": "code",
   "execution_count": 33,
   "id": "2f5b0e67-97ed-4ea3-a63b-ea4ecb34a756",
   "metadata": {},
   "outputs": [
    {
     "data": {
      "text/plain": [
       "Hyperopinion(2, [0.51 0.49], [0.5 0.5])"
      ]
     },
     "execution_count": 33,
     "metadata": {},
     "output_type": "execute_result"
    }
   ],
   "source": [
    "averaging_fusion([AX, BX])"
   ]
  },
  {
   "cell_type": "code",
   "execution_count": 34,
   "id": "9ce6b099-7b3c-408e-9ddc-5e84bff44d09",
   "metadata": {},
   "outputs": [
    {
     "data": {
      "text/plain": [
       "Hyperopinion(2, [0.51 0.49], [0.5 0.5])"
      ]
     },
     "execution_count": 34,
     "metadata": {},
     "output_type": "execute_result"
    }
   ],
   "source": [
    "weighted_fusion([AX, BX])"
   ]
  },
  {
   "cell_type": "markdown",
   "id": "1d99bfb5-edb3-4bb5-93f3-fe5fa53b3179",
   "metadata": {},
   "source": [
    "## Initial opinions"
   ]
  },
  {
   "cell_type": "markdown",
   "id": "8ce4420f-5bec-4112-ae33-bbc5fd6cdbed",
   "metadata": {},
   "source": [
    "### Unifom (as in uniform belief state) with a dogmatic opinion"
   ]
  },
  {
   "cell_type": "code",
   "execution_count": 59,
   "id": "48982c65-9135-4755-bbf2-a1640dc25da0",
   "metadata": {},
   "outputs": [],
   "source": [
    "def uniform_with_a_dogmatic(n):\n",
    "    ans = []\n",
    "    for i in range(n):\n",
    "        ans.append(Hyperopinion(2, [i / (n - 1), 0]))\n",
    "    return(ans)"
   ]
  },
  {
   "cell_type": "code",
   "execution_count": 60,
   "id": "6afcf74f-31a2-4c17-801a-eb9b5ed678ca",
   "metadata": {},
   "outputs": [
    {
     "data": {
      "text/plain": [
       "[Hyperopinion(2, [0. 0.], [0.5 0.5]),\n",
       " Hyperopinion(2, [0.11111111 0.        ], [0.5 0.5]),\n",
       " Hyperopinion(2, [0.22222222 0.        ], [0.5 0.5]),\n",
       " Hyperopinion(2, [0.33333333 0.        ], [0.5 0.5]),\n",
       " Hyperopinion(2, [0.44444444 0.        ], [0.5 0.5]),\n",
       " Hyperopinion(2, [0.55555556 0.        ], [0.5 0.5]),\n",
       " Hyperopinion(2, [0.66666667 0.        ], [0.5 0.5]),\n",
       " Hyperopinion(2, [0.77777778 0.        ], [0.5 0.5]),\n",
       " Hyperopinion(2, [0.88888889 0.        ], [0.5 0.5]),\n",
       " Hyperopinion(2, [1. 0.], [0.5 0.5])]"
      ]
     },
     "execution_count": 60,
     "metadata": {},
     "output_type": "execute_result"
    }
   ],
   "source": [
    "uniform_with_a_dogmatic(10)"
   ]
  },
  {
   "cell_type": "markdown",
   "id": "311253e3-9579-4700-80f5-ceb14a1647f0",
   "metadata": {},
   "source": [
    "### Uniform (as in uniform belief state) without a dogmatic opinion"
   ]
  },
  {
   "cell_type": "code",
   "execution_count": 62,
   "id": "e794a373-9fb2-455e-96fe-fb7ce2ff6556",
   "metadata": {},
   "outputs": [],
   "source": [
    "def uniform_without_a_dogmatic(n):\n",
    "    ans = []\n",
    "    for i in range(n):\n",
    "        ans.append(Hyperopinion(2, [i / n, 0]))\n",
    "    return(ans)"
   ]
  },
  {
   "cell_type": "code",
   "execution_count": 63,
   "id": "4ddf3ace-229e-4b56-ae4b-83d67c30c679",
   "metadata": {},
   "outputs": [
    {
     "data": {
      "text/plain": [
       "[Hyperopinion(2, [0. 0.], [0.5 0.5]),\n",
       " Hyperopinion(2, [0.1 0. ], [0.5 0.5]),\n",
       " Hyperopinion(2, [0.2 0. ], [0.5 0.5]),\n",
       " Hyperopinion(2, [0.3 0. ], [0.5 0.5]),\n",
       " Hyperopinion(2, [0.4 0. ], [0.5 0.5]),\n",
       " Hyperopinion(2, [0.5 0. ], [0.5 0.5]),\n",
       " Hyperopinion(2, [0.6 0. ], [0.5 0.5]),\n",
       " Hyperopinion(2, [0.7 0. ], [0.5 0.5]),\n",
       " Hyperopinion(2, [0.8 0. ], [0.5 0.5]),\n",
       " Hyperopinion(2, [0.9 0. ], [0.5 0.5])]"
      ]
     },
     "execution_count": 63,
     "metadata": {},
     "output_type": "execute_result"
    }
   ],
   "source": [
    "uniform_without_a_dogmatic(10)"
   ]
  },
  {
   "cell_type": "markdown",
   "id": "ca70cbe6-4dfc-4f35-b57e-e3794230b5e8",
   "metadata": {},
   "source": [
    "### Uniform (as in uniform belief state) only with dogmatic opinions"
   ]
  },
  {
   "cell_type": "code",
   "execution_count": 75,
   "id": "df927dec-3f64-42b3-879c-a469faf9e0ed",
   "metadata": {},
   "outputs": [],
   "source": [
    "def uniform_dogmatic(n):\n",
    "    ans = []\n",
    "    for i in range(n):\n",
    "        ans.append(Hyperopinion(2, [i / (n - 1), 1 - i / (n - 1)]))\n",
    "    return(ans)"
   ]
  },
  {
   "cell_type": "code",
   "execution_count": 76,
   "id": "175cc37f-bd9f-445a-8a7f-2f096c953dee",
   "metadata": {},
   "outputs": [
    {
     "data": {
      "text/plain": [
       "[Hyperopinion(2, [0. 1.], [0.5 0.5]),\n",
       " Hyperopinion(2, [0.11111111 0.88888889], [0.5 0.5]),\n",
       " Hyperopinion(2, [0.22222222 0.77777778], [0.5 0.5]),\n",
       " Hyperopinion(2, [0.33333333 0.66666667], [0.5 0.5]),\n",
       " Hyperopinion(2, [0.44444444 0.55555556], [0.5 0.5]),\n",
       " Hyperopinion(2, [0.55555556 0.44444444], [0.5 0.5]),\n",
       " Hyperopinion(2, [0.66666667 0.33333333], [0.5 0.5]),\n",
       " Hyperopinion(2, [0.77777778 0.22222222], [0.5 0.5]),\n",
       " Hyperopinion(2, [0.88888889 0.11111111], [0.5 0.5]),\n",
       " Hyperopinion(2, [1. 0.], [0.5 0.5])]"
      ]
     },
     "execution_count": 76,
     "metadata": {},
     "output_type": "execute_result"
    }
   ],
   "source": [
    "uniform_dogmatic(10)"
   ]
  },
  {
   "cell_type": "markdown",
   "id": "c7b943fb-f432-4f03-a723-e509b0e23a83",
   "metadata": {},
   "source": [
    "## Trust graph"
   ]
  },
  {
   "cell_type": "markdown",
   "id": "a05bb888-ad4b-46c5-990e-4d5a9ca297c5",
   "metadata": {},
   "source": [
    "All trust opinions are dogmatic. (Explain)"
   ]
  },
  {
   "cell_type": "markdown",
   "id": "c2e8742b-cd84-4fdb-9dc2-f0f5640544c0",
   "metadata": {},
   "source": [
    "### Clique"
   ]
  },
  {
   "cell_type": "code",
   "execution_count": 101,
   "id": "940a4a80-6ded-47b1-bb30-2074105e0d90",
   "metadata": {},
   "outputs": [],
   "source": [
    "def clique(n):\n",
    "    trust_graph = []\n",
    "    for i in range(n):\n",
    "        trust_graph.append([Hyperopinion(2, [0.5, 0.5]) if i != j else None for j in range(n)])\n",
    "    return trust_graph"
   ]
  },
  {
   "cell_type": "code",
   "execution_count": 102,
   "id": "91abf475-a24d-4b97-be8f-9a89bd769e3d",
   "metadata": {},
   "outputs": [
    {
     "data": {
      "text/plain": [
       "{0: [None,\n",
       "  Hyperopinion(2, [0.5 0.5], [0.5 0.5]),\n",
       "  Hyperopinion(2, [0.5 0.5], [0.5 0.5])],\n",
       " 1: [Hyperopinion(2, [0.5 0.5], [0.5 0.5]),\n",
       "  None,\n",
       "  Hyperopinion(2, [0.5 0.5], [0.5 0.5])],\n",
       " 2: [Hyperopinion(2, [0.5 0.5], [0.5 0.5]),\n",
       "  Hyperopinion(2, [0.5 0.5], [0.5 0.5]),\n",
       "  None]}"
      ]
     },
     "execution_count": 102,
     "metadata": {},
     "output_type": "execute_result"
    }
   ],
   "source": [
    "trust_graph = clique(3)\n",
    "{i : trust_graph[i] for i in range(len(trust_graph))}"
   ]
  },
  {
   "cell_type": "markdown",
   "id": "8225ee4e-be89-423e-a0e6-4a1679426d23",
   "metadata": {},
   "source": [
    "## Update function"
   ]
  },
  {
   "cell_type": "code",
   "execution_count": 127,
   "id": "93f12596-abc0-42cf-a68c-0de9de867ab0",
   "metadata": {},
   "outputs": [],
   "source": [
    "def update_function(fusion_operator, truster_index, trust_array, state):\n",
    "    truster_opinion = state[truster_index]\n",
    "    discount_array = [trust_discount_2e(trust_array[trustee_index], state[trustee_index])\n",
    "        for trustee_index in range(len(state)) if truster_index != trustee_index]\n",
    "    print(\"discount_array =\", discount_array)\n",
    "    new_opinion = fusion_operator([truster_opinion] + discount_array)\n",
    "    return new_opinion"
   ]
  },
  {
   "cell_type": "code",
   "execution_count": 125,
   "id": "a3cfb02b-c630-448d-b146-da180dd5974c",
   "metadata": {},
   "outputs": [
    {
     "data": {
      "text/plain": [
       "[Hyperopinion(2, [0. 1.], [0.5 0.5]),\n",
       " Hyperopinion(2, [0.5 0.5], [0.5 0.5]),\n",
       " Hyperopinion(2, [1. 0.], [0.5 0.5])]"
      ]
     },
     "execution_count": 125,
     "metadata": {},
     "output_type": "execute_result"
    }
   ],
   "source": [
    "state = uniform_dogmatic(3)\n",
    "state"
   ]
  },
  {
   "cell_type": "code",
   "execution_count": 128,
   "id": "f03c9a53-ab19-430e-8a40-9ff6721e490e",
   "metadata": {},
   "outputs": [
    {
     "data": {
      "text/plain": [
       "[None,\n",
       " Hyperopinion(2, [0.5 0.5], [0.5 0.5]),\n",
       " Hyperopinion(2, [0.5 0.5], [0.5 0.5])]"
      ]
     },
     "execution_count": 128,
     "metadata": {},
     "output_type": "execute_result"
    }
   ],
   "source": [
    "trust_graph = clique(3)\n",
    "trust_graph[0]"
   ]
  },
  {
   "cell_type": "code",
   "execution_count": 130,
   "id": "b42ab31b-45f1-4129-991b-931cbcb4bb78",
   "metadata": {},
   "outputs": [
    {
     "name": "stdout",
     "output_type": "stream",
     "text": [
      "discount_array = [Hyperopinion(2, [0.25 0.25], [0.5 0.5]), Hyperopinion(2, [0.5 0. ], [0.5 0.5])]\n"
     ]
    },
    {
     "data": {
      "text/plain": [
       "Hyperopinion(2, [0. 1.], [0.5 0.5])"
      ]
     },
     "execution_count": 130,
     "metadata": {},
     "output_type": "execute_result"
    }
   ],
   "source": [
    "update_function(averaging_fusion, 0, trust_graph[0], state)"
   ]
  },
  {
   "cell_type": "markdown",
   "id": "309f3df4-aed1-4747-b8d7-d4ce646218ad",
   "metadata": {},
   "source": [
    "## Simulations"
   ]
  },
  {
   "cell_type": "markdown",
   "id": "9184ea38-c279-4113-a0a0-bd93d3eddf9b",
   "metadata": {},
   "source": [
    "### Clique and unifom with only dogmatic opinions"
   ]
  },
  {
   "cell_type": "code",
   "execution_count": null,
   "id": "8254b76b-2fff-4109-a144-efaa0189402f",
   "metadata": {},
   "outputs": [],
   "source": [
    "states = []\n",
    "state = uniform_dogmatic(6)\n"
   ]
  }
 ],
 "metadata": {
  "kernelspec": {
   "display_name": "Python 3 (ipykernel)",
   "language": "python",
   "name": "python3"
  },
  "language_info": {
   "codemirror_mode": {
    "name": "ipython",
    "version": 3
   },
   "file_extension": ".py",
   "mimetype": "text/x-python",
   "name": "python",
   "nbconvert_exporter": "python",
   "pygments_lexer": "ipython3",
   "version": "3.9.7"
  }
 },
 "nbformat": 4,
 "nbformat_minor": 5
}
