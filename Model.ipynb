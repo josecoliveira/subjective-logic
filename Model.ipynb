{
 "cells": [
  {
   "cell_type": "code",
   "execution_count": 27,
   "id": "707d530d-25c1-4cb9-8bb7-99f4408c54bc",
   "metadata": {},
   "outputs": [],
   "source": [
    "%load_ext autoreload\n",
    "%autoreload 2"
   ]
  },
  {
   "cell_type": "code",
   "execution_count": 66,
   "id": "efaccdac-fe1b-44ac-b930-0cdb0499374d",
   "metadata": {},
   "outputs": [],
   "source": [
    "from SubjectiveLogic import Hyperopinion, HyperopinionInterface\n",
    "from SubjectiveLogic.BeliefFusion import cumulative_fusion, averaging_fusion, weighted_fusion\n",
    "from SubjectiveLogic.Trust import trust_discount_2e\n",
    "import numpy as np\n",
    "import matplotlib.pyplot as plt\n",
    "from typing import List, Callable"
   ]
  },
  {
   "cell_type": "markdown",
   "id": "310db694-df95-4dfa-a993-42d33b852441",
   "metadata": {},
   "source": [
    "# Model"
   ]
  },
  {
   "cell_type": "markdown",
   "id": "9299dba3-7b6e-4ce5-8352-770e9cdbd340",
   "metadata": {},
   "source": [
    "## Tests"
   ]
  },
  {
   "cell_type": "code",
   "execution_count": 29,
   "id": "10c150b9-ad94-4d36-adf5-2784a80eee87",
   "metadata": {},
   "outputs": [],
   "source": [
    "AX = Hyperopinion(2, [0.29, 0.71])\n",
    "BX = Hyperopinion(2, [0.73, 0.27])"
   ]
  },
  {
   "cell_type": "code",
   "execution_count": 30,
   "id": "69ea40af-ee8c-48da-90a8-7f8ddb23b963",
   "metadata": {},
   "outputs": [
    {
     "data": {
      "text/plain": [
       "Hyperopinion(2, [0.51 0.49], [0.5 0.5])"
      ]
     },
     "execution_count": 30,
     "metadata": {},
     "output_type": "execute_result"
    }
   ],
   "source": [
    "cumulative_fusion([AX, BX])"
   ]
  },
  {
   "cell_type": "code",
   "execution_count": 31,
   "id": "2f5b0e67-97ed-4ea3-a63b-ea4ecb34a756",
   "metadata": {},
   "outputs": [
    {
     "data": {
      "text/plain": [
       "Hyperopinion(2, [0.51 0.49], [0.5 0.5])"
      ]
     },
     "execution_count": 31,
     "metadata": {},
     "output_type": "execute_result"
    }
   ],
   "source": [
    "averaging_fusion([AX, BX])"
   ]
  },
  {
   "cell_type": "code",
   "execution_count": 32,
   "id": "9ce6b099-7b3c-408e-9ddc-5e84bff44d09",
   "metadata": {},
   "outputs": [
    {
     "data": {
      "text/plain": [
       "Hyperopinion(2, [0.51 0.49], [0.5 0.5])"
      ]
     },
     "execution_count": 32,
     "metadata": {},
     "output_type": "execute_result"
    }
   ],
   "source": [
    "weighted_fusion([AX, BX])"
   ]
  },
  {
   "cell_type": "markdown",
   "id": "10e47007-c0ff-474a-9861-e58a10f2753a",
   "metadata": {},
   "source": [
    "## Definitions"
   ]
  },
  {
   "cell_type": "code",
   "execution_count": 42,
   "id": "4e8be025-24d3-40aa-970a-66b7ea9b8460",
   "metadata": {},
   "outputs": [],
   "source": [
    "State = List['HyperopinionInterface']\n",
    "TrustGraph = List[List['HyperopinionInterface']]\n",
    "TrustArray = List['HyperopinionInterface']"
   ]
  },
  {
   "cell_type": "markdown",
   "id": "1d99bfb5-edb3-4bb5-93f3-fe5fa53b3179",
   "metadata": {},
   "source": [
    "## Initial opinions"
   ]
  },
  {
   "cell_type": "markdown",
   "id": "8ce4420f-5bec-4112-ae33-bbc5fd6cdbed",
   "metadata": {},
   "source": [
    "### Unifom (as in uniform belief state) with a dogmatic opinion"
   ]
  },
  {
   "cell_type": "code",
   "execution_count": 34,
   "id": "48982c65-9135-4755-bbf2-a1640dc25da0",
   "metadata": {},
   "outputs": [],
   "source": [
    "def uniform_with_a_dogmatic(n: int) -> State:\n",
    "    ans = []\n",
    "    for i in range(n):\n",
    "        ans.append(Hyperopinion(2, [i / (n - 1), 0]))\n",
    "    return(ans)"
   ]
  },
  {
   "cell_type": "code",
   "execution_count": 35,
   "id": "6afcf74f-31a2-4c17-801a-eb9b5ed678ca",
   "metadata": {},
   "outputs": [
    {
     "data": {
      "text/plain": [
       "[Hyperopinion(2, [0. 0.], [0.5 0.5]),\n",
       " Hyperopinion(2, [0.11111111 0.        ], [0.5 0.5]),\n",
       " Hyperopinion(2, [0.22222222 0.        ], [0.5 0.5]),\n",
       " Hyperopinion(2, [0.33333333 0.        ], [0.5 0.5]),\n",
       " Hyperopinion(2, [0.44444444 0.        ], [0.5 0.5]),\n",
       " Hyperopinion(2, [0.55555556 0.        ], [0.5 0.5]),\n",
       " Hyperopinion(2, [0.66666667 0.        ], [0.5 0.5]),\n",
       " Hyperopinion(2, [0.77777778 0.        ], [0.5 0.5]),\n",
       " Hyperopinion(2, [0.88888889 0.        ], [0.5 0.5]),\n",
       " Hyperopinion(2, [1. 0.], [0.5 0.5])]"
      ]
     },
     "execution_count": 35,
     "metadata": {},
     "output_type": "execute_result"
    }
   ],
   "source": [
    "uniform_with_a_dogmatic(10)"
   ]
  },
  {
   "cell_type": "markdown",
   "id": "311253e3-9579-4700-80f5-ceb14a1647f0",
   "metadata": {},
   "source": [
    "### Uniform (as in uniform belief state) without a dogmatic opinion"
   ]
  },
  {
   "cell_type": "code",
   "execution_count": 36,
   "id": "e794a373-9fb2-455e-96fe-fb7ce2ff6556",
   "metadata": {},
   "outputs": [],
   "source": [
    "def uniform_without_a_dogmatic(n : int) -> State:\n",
    "    ans = []\n",
    "    for i in range(n):\n",
    "        ans.append(Hyperopinion(2, [i / n, 0]))\n",
    "    return(ans)"
   ]
  },
  {
   "cell_type": "code",
   "execution_count": 37,
   "id": "4ddf3ace-229e-4b56-ae4b-83d67c30c679",
   "metadata": {},
   "outputs": [
    {
     "data": {
      "text/plain": [
       "[Hyperopinion(2, [0. 0.], [0.5 0.5]),\n",
       " Hyperopinion(2, [0.1 0. ], [0.5 0.5]),\n",
       " Hyperopinion(2, [0.2 0. ], [0.5 0.5]),\n",
       " Hyperopinion(2, [0.3 0. ], [0.5 0.5]),\n",
       " Hyperopinion(2, [0.4 0. ], [0.5 0.5]),\n",
       " Hyperopinion(2, [0.5 0. ], [0.5 0.5]),\n",
       " Hyperopinion(2, [0.6 0. ], [0.5 0.5]),\n",
       " Hyperopinion(2, [0.7 0. ], [0.5 0.5]),\n",
       " Hyperopinion(2, [0.8 0. ], [0.5 0.5]),\n",
       " Hyperopinion(2, [0.9 0. ], [0.5 0.5])]"
      ]
     },
     "execution_count": 37,
     "metadata": {},
     "output_type": "execute_result"
    }
   ],
   "source": [
    "uniform_without_a_dogmatic(10)"
   ]
  },
  {
   "cell_type": "markdown",
   "id": "ca70cbe6-4dfc-4f35-b57e-e3794230b5e8",
   "metadata": {},
   "source": [
    "### Uniform (as in uniform belief state) only with dogmatic opinions"
   ]
  },
  {
   "cell_type": "code",
   "execution_count": 38,
   "id": "df927dec-3f64-42b3-879c-a469faf9e0ed",
   "metadata": {},
   "outputs": [],
   "source": [
    "def uniform_dogmatic(n: int) -> State:\n",
    "    ans = []\n",
    "    for i in range(n):\n",
    "        ans.append(Hyperopinion(2, [i / (n - 1), 1 - i / (n - 1)]))\n",
    "    return(ans)"
   ]
  },
  {
   "cell_type": "code",
   "execution_count": 39,
   "id": "175cc37f-bd9f-445a-8a7f-2f096c953dee",
   "metadata": {},
   "outputs": [
    {
     "data": {
      "text/plain": [
       "[Hyperopinion(2, [0. 1.], [0.5 0.5]),\n",
       " Hyperopinion(2, [0.11111111 0.88888889], [0.5 0.5]),\n",
       " Hyperopinion(2, [0.22222222 0.77777778], [0.5 0.5]),\n",
       " Hyperopinion(2, [0.33333333 0.66666667], [0.5 0.5]),\n",
       " Hyperopinion(2, [0.44444444 0.55555556], [0.5 0.5]),\n",
       " Hyperopinion(2, [0.55555556 0.44444444], [0.5 0.5]),\n",
       " Hyperopinion(2, [0.66666667 0.33333333], [0.5 0.5]),\n",
       " Hyperopinion(2, [0.77777778 0.22222222], [0.5 0.5]),\n",
       " Hyperopinion(2, [0.88888889 0.11111111], [0.5 0.5]),\n",
       " Hyperopinion(2, [1. 0.], [0.5 0.5])]"
      ]
     },
     "execution_count": 39,
     "metadata": {},
     "output_type": "execute_result"
    }
   ],
   "source": [
    "uniform_dogmatic(10)"
   ]
  },
  {
   "cell_type": "markdown",
   "id": "c7b943fb-f432-4f03-a723-e509b0e23a83",
   "metadata": {},
   "source": [
    "## Trust graph"
   ]
  },
  {
   "cell_type": "markdown",
   "id": "a05bb888-ad4b-46c5-990e-4d5a9ca297c5",
   "metadata": {},
   "source": [
    "All trust opinions are dogmatic. (Explain)"
   ]
  },
  {
   "cell_type": "markdown",
   "id": "c2e8742b-cd84-4fdb-9dc2-f0f5640544c0",
   "metadata": {},
   "source": [
    "### Clique"
   ]
  },
  {
   "cell_type": "code",
   "execution_count": 40,
   "id": "940a4a80-6ded-47b1-bb30-2074105e0d90",
   "metadata": {},
   "outputs": [],
   "source": [
    "def clique(n: int) -> TrustGraph:\n",
    "    trust_graph = []\n",
    "    for i in range(n):\n",
    "        trust_graph.append([Hyperopinion(2, [0.5, 0.5]) if i != j else None for j in range(n)])\n",
    "    return trust_graph"
   ]
  },
  {
   "cell_type": "code",
   "execution_count": 41,
   "id": "91abf475-a24d-4b97-be8f-9a89bd769e3d",
   "metadata": {},
   "outputs": [
    {
     "data": {
      "text/plain": [
       "{0: [None,\n",
       "  Hyperopinion(2, [0.5 0.5], [0.5 0.5]),\n",
       "  Hyperopinion(2, [0.5 0.5], [0.5 0.5])],\n",
       " 1: [Hyperopinion(2, [0.5 0.5], [0.5 0.5]),\n",
       "  None,\n",
       "  Hyperopinion(2, [0.5 0.5], [0.5 0.5])],\n",
       " 2: [Hyperopinion(2, [0.5 0.5], [0.5 0.5]),\n",
       "  Hyperopinion(2, [0.5 0.5], [0.5 0.5]),\n",
       "  None]}"
      ]
     },
     "execution_count": 41,
     "metadata": {},
     "output_type": "execute_result"
    }
   ],
   "source": [
    "trust_graph = clique(3)\n",
    "{i : trust_graph[i] for i in range(len(trust_graph))}"
   ]
  },
  {
   "cell_type": "markdown",
   "id": "8225ee4e-be89-423e-a0e6-4a1679426d23",
   "metadata": {},
   "source": [
    "## Update function"
   ]
  },
  {
   "cell_type": "code",
   "execution_count": 59,
   "id": "93f12596-abc0-42cf-a68c-0de9de867ab0",
   "metadata": {},
   "outputs": [],
   "source": [
    "def update(\n",
    "        fusion_operator: Callable[[int], State],\n",
    "        truster_index: int,\n",
    "        trust_array: TrustArray,\n",
    "        state: State) -> HyperopinionInterface:\n",
    "    truster_opinion = state[truster_index]\n",
    "    discount_array = [trust_discount_2e(trust_array[trustee_index], state[trustee_index])\n",
    "        for trustee_index in range(len(state)) if truster_index != trustee_index]\n",
    "#     print(\"discount_array =\", discount_array)\n",
    "    new_opinion = fusion_operator([truster_opinion] + discount_array)\n",
    "    return new_opinion"
   ]
  },
  {
   "cell_type": "code",
   "execution_count": 46,
   "id": "a3cfb02b-c630-448d-b146-da180dd5974c",
   "metadata": {},
   "outputs": [
    {
     "data": {
      "text/plain": [
       "[Hyperopinion(2, [0. 1.], [0.5 0.5]),\n",
       " Hyperopinion(2, [0.5 0.5], [0.5 0.5]),\n",
       " Hyperopinion(2, [1. 0.], [0.5 0.5])]"
      ]
     },
     "execution_count": 46,
     "metadata": {},
     "output_type": "execute_result"
    }
   ],
   "source": [
    "state = uniform_dogmatic(3)\n",
    "state"
   ]
  },
  {
   "cell_type": "code",
   "execution_count": 47,
   "id": "f03c9a53-ab19-430e-8a40-9ff6721e490e",
   "metadata": {},
   "outputs": [
    {
     "data": {
      "text/plain": [
       "[None,\n",
       " Hyperopinion(2, [0.5 0.5], [0.5 0.5]),\n",
       " Hyperopinion(2, [0.5 0.5], [0.5 0.5])]"
      ]
     },
     "execution_count": 47,
     "metadata": {},
     "output_type": "execute_result"
    }
   ],
   "source": [
    "trust_graph = clique(3)\n",
    "trust_graph[0]"
   ]
  },
  {
   "cell_type": "code",
   "execution_count": 48,
   "id": "b42ab31b-45f1-4129-991b-931cbcb4bb78",
   "metadata": {},
   "outputs": [
    {
     "name": "stdout",
     "output_type": "stream",
     "text": [
      "discount_array = [Hyperopinion(2, [0.25 0.25], [0.5 0.5]), Hyperopinion(2, [0.5 0. ], [0.5 0.5])]\n"
     ]
    },
    {
     "data": {
      "text/plain": [
       "Hyperopinion(2, [0. 1.], [0.5 0.5])"
      ]
     },
     "execution_count": 48,
     "metadata": {},
     "output_type": "execute_result"
    }
   ],
   "source": [
    "update_function(averaging_fusion, 0, trust_graph[0], state)"
   ]
  },
  {
   "cell_type": "markdown",
   "id": "e740b21d-bb8a-4d1f-a258-772e23ed6098",
   "metadata": {},
   "source": [
    "### Overall update function"
   ]
  },
  {
   "cell_type": "code",
   "execution_count": 51,
   "id": "a3a97c3a-eb95-4004-9b18-0acf40b4ee0b",
   "metadata": {},
   "outputs": [],
   "source": [
    "def overall_update(\n",
    "        fusion_operator: Callable[[int], State],\n",
    "        trust_graph: TrustGraph,\n",
    "        state: State) -> HyperopinionInterface:\n",
    "    new_state = []\n",
    "    N = len(state)\n",
    "    for i in range(N):\n",
    "        new_state.append(update(averaging_fusion, i, trust_graph[i], state))\n",
    "    return new_state"
   ]
  },
  {
   "cell_type": "markdown",
   "id": "309f3df4-aed1-4747-b8d7-d4ce646218ad",
   "metadata": {},
   "source": [
    "## Simulations"
   ]
  },
  {
   "cell_type": "code",
   "execution_count": 98,
   "id": "4fa40c37-cd1d-4864-9f61-a2282e068ea9",
   "metadata": {},
   "outputs": [],
   "source": [
    "def plot(n, interactions, states):\n",
    "    for i in range(n):\n",
    "        plt.plot(list(range(interactions)), [states[j][i].b[0] for j in range(interactions)])"
   ]
  },
  {
   "cell_type": "markdown",
   "id": "9184ea38-c279-4113-a0a0-bd93d3eddf9b",
   "metadata": {},
   "source": [
    "### Clique and unifom with only dogmatic opinions and averaging fusion"
   ]
  },
  {
   "cell_type": "code",
   "execution_count": 118,
   "id": "8254b76b-2fff-4109-a144-efaa0189402f",
   "metadata": {},
   "outputs": [
    {
     "data": {
      "image/png": "[encoded data removed]",
      "text/plain": [
       "<Figure size 432x288 with 1 Axes>"
      ]
     },
     "metadata": {
      "needs_background": "light"
     },
     "output_type": "display_data"
    }
   ],
   "source": [
    "N = 5\n",
    "INTERACTIONS = 10\n",
    "state = uniform_dogmatic(N)\n",
    "states = [state]\n",
    "trust_graph = clique(N)\n",
    "\n",
    "for i in range(INTERACTIONS):\n",
    "    states.append(overall_update(averaging_fusion, trust_graph, states[-1]))\n",
    "    \n",
    "plot(N, INTERACTIONS, states)"
   ]
  },
  {
   "cell_type": "markdown",
   "id": "a46f210f-6281-43e8-9054-e3941943a40e",
   "metadata": {},
   "source": [
    "### Clique n uniform without a dogmatic opinion and averaging fusion"
   ]
  },
  {
   "cell_type": "code",
   "execution_count": 125,
   "id": "97423512-c0b4-401b-917c-27d358ca12a2",
   "metadata": {},
   "outputs": [
    {
     "data": {
      "image/png": "[encoded data removed]",
      "text/plain": [
       "<Figure size 432x288 with 1 Axes>"
      ]
     },
     "metadata": {
      "needs_background": "light"
     },
     "output_type": "display_data"
    }
   ],
   "source": [
    "N = 3\n",
    "INTERACTIONS = 10\n",
    "state = uniform_without_a_dogmatic(N)\n",
    "states = [state]\n",
    "trust_graph = clique(N)\n",
    "\n",
    "for i in range(INTERACTIONS):\n",
    "    states.append(overall_update(averaging_fusion, trust_graph, states[-1]))\n",
    "    \n",
    "plot(N, INTERACTIONS, states)"
   ]
  },
  {
   "cell_type": "code",
   "execution_count": 126,
   "id": "791f5a4a-688b-46ce-936a-cf29fecb8002",
   "metadata": {},
   "outputs": [
    {
     "data": {
      "text/plain": [
       "[[Hyperopinion(2, [0. 0.], [0.5 0.5]),\n",
       "  Hyperopinion(2, [0.33333333 0.        ], [0.5 0.5]),\n",
       "  Hyperopinion(2, [0.66666667 0.        ], [0.5 0.5])],\n",
       " [Hyperopinion(2, [0.18918919 0.        ], [0.5 0.5]),\n",
       "  Hyperopinion(2, [0.25 0.  ], [0.5 0.5]),\n",
       "  Hyperopinion(2, [0.42307692 0.        ], [0.5 0.5])],\n",
       " [Hyperopinion(2, [0.17683801 0.        ], [0.5 0.5]),\n",
       "  Hyperopinion(2, [0.19052452 0.        ], [0.5 0.5]),\n",
       "  Hyperopinion(2, [0.24635766 0.        ], [0.5 0.5])],\n",
       " [Hyperopinion(2, [0.13309926 0.        ], [0.5 0.5]),\n",
       "  Hyperopinion(2, [0.13615532 0.        ], [0.5 0.5]),\n",
       "  Hyperopinion(2, [0.14994352 0.        ], [0.5 0.5])],\n",
       " [Hyperopinion(2, [0.09300712 0.        ], [0.5 0.5]),\n",
       "  Hyperopinion(2, [0.09364404 0.        ], [0.5 0.5]),\n",
       "  Hyperopinion(2, [0.09658621 0.        ], [0.5 0.5])],\n",
       " [Hyperopinion(2, [0.06320557 0.        ], [0.5 0.5]),\n",
       "  Hyperopinion(2, [0.0633297 0.       ], [0.5 0.5]),\n",
       "  Hyperopinion(2, [0.06390593 0.        ], [0.5 0.5])],\n",
       " [Hyperopinion(2, [0.04250573 0.        ], [0.5 0.5]),\n",
       "  Hyperopinion(2, [0.04252873 0.        ], [0.5 0.5]),\n",
       "  Hyperopinion(2, [0.04263562 0.        ], [0.5 0.5])],\n",
       " [Hyperopinion(2, [0.02846632 0.        ], [0.5 0.5]),\n",
       "  Hyperopinion(2, [0.02847044 0.        ], [0.5 0.5]),\n",
       "  Hyperopinion(2, [0.02848957 0.        ], [0.5 0.5])],\n",
       " [Hyperopinion(2, [0.01902818 0.        ], [0.5 0.5]),\n",
       "  Hyperopinion(2, [0.0190289 0.       ], [0.5 0.5]),\n",
       "  Hyperopinion(2, [0.01903224 0.        ], [0.5 0.5])],\n",
       " [Hyperopinion(2, [0.01270668 0.        ], [0.5 0.5]),\n",
       "  Hyperopinion(2, [0.01270681 0.        ], [0.5 0.5]),\n",
       "  Hyperopinion(2, [0.01270738 0.        ], [0.5 0.5])],\n",
       " [Hyperopinion(2, [0.00848033 0.        ], [0.5 0.5]),\n",
       "  Hyperopinion(2, [0.00848035 0.        ], [0.5 0.5]),\n",
       "  Hyperopinion(2, [0.00848044 0.        ], [0.5 0.5])]]"
      ]
     },
     "execution_count": 126,
     "metadata": {},
     "output_type": "execute_result"
    }
   ],
   "source": [
    "states"
   ]
  },
  {
   "cell_type": "code",
   "execution_count": null,
   "id": "373c6911-4bae-454a-97b2-1a254bbb3939",
   "metadata": {},
   "outputs": [],
   "source": []
  }
 ],
 "metadata": {
  "kernelspec": {
   "display_name": "Python 3 (ipykernel)",
   "language": "python",
   "name": "python3"
  },
  "language_info": {
   "codemirror_mode": {
    "name": "ipython",
    "version": 3
   },
   "file_extension": ".py",
   "mimetype": "text/x-python",
   "name": "python",
   "nbconvert_exporter": "python",
   "pygments_lexer": "ipython3",
   "version": "3.8.10"
  }
 },
 "nbformat": 4,
 "nbformat_minor": 5
}
