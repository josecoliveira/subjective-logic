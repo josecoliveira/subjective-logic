{
 "cells": [
  {
   "cell_type": "code",
   "execution_count": 1,
   "id": "707d530d-25c1-4cb9-8bb7-99f4408c54bc",
   "metadata": {},
   "outputs": [],
   "source": [
    "%load_ext autoreload\n",
    "%autoreload 2"
   ]
  },
  {
   "cell_type": "code",
   "execution_count": 9,
   "id": "efaccdac-fe1b-44ac-b930-0cdb0499374d",
   "metadata": {},
   "outputs": [],
   "source": [
    "from SubjectiveLogic import Hyperopinion\n",
    "from SubjectiveLogic.BeliefFusion import cumulative_fusion, averaging_fusion\n",
    "from SubjectiveLogic.Trust import trust_discount_2e\n",
    "import numpy as np"
   ]
  },
  {
   "cell_type": "markdown",
   "id": "310db694-df95-4dfa-a993-42d33b852441",
   "metadata": {},
   "source": [
    "## Tests"
   ]
  },
  {
   "cell_type": "code",
   "execution_count": 11,
   "id": "10c150b9-ad94-4d36-adf5-2784a80eee87",
   "metadata": {},
   "outputs": [],
   "source": [
    "AX = Hyperopinion(2, [0.3, 0.7])\n",
    "BX = Hyperopinion(2, [0.7, 0.3])"
   ]
  },
  {
   "cell_type": "code",
   "execution_count": 12,
   "id": "69ea40af-ee8c-48da-90a8-7f8ddb23b963",
   "metadata": {},
   "outputs": [
    {
     "data": {
      "text/plain": [
       "Hyperopinion(2, [0.5 0.5], [0.5 0.5])"
      ]
     },
     "execution_count": 12,
     "metadata": {},
     "output_type": "execute_result"
    }
   ],
   "source": [
    "cumulative_fusion([AX, BX])"
   ]
  },
  {
   "cell_type": "code",
   "execution_count": 13,
   "id": "2f5b0e67-97ed-4ea3-a63b-ea4ecb34a756",
   "metadata": {},
   "outputs": [
    {
     "data": {
      "text/plain": [
       "Hyperopinion(2, [0.5 0.5], [0.5 0.5])"
      ]
     },
     "execution_count": 13,
     "metadata": {},
     "output_type": "execute_result"
    }
   ],
   "source": [
    "averaging_fusion([AX, BX])"
   ]
  },
  {
   "cell_type": "code",
   "execution_count": null,
   "id": "9ce6b099-7b3c-408e-9ddc-5e84bff44d09",
   "metadata": {},
   "outputs": [],
   "source": []
  }
 ],
 "metadata": {
  "kernelspec": {
   "display_name": "Python 3 (ipykernel)",
   "language": "python",
   "name": "python3"
  },
  "language_info": {
   "codemirror_mode": {
    "name": "ipython",
    "version": 3
   },
   "file_extension": ".py",
   "mimetype": "text/x-python",
   "name": "python",
   "nbconvert_exporter": "python",
   "pygments_lexer": "ipython3",
   "version": "3.8.10"
  }
 },
 "nbformat": 4,
 "nbformat_minor": 5
}
