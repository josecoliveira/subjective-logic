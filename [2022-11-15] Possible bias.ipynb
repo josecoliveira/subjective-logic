{
 "cells": [
  {
   "cell_type": "code",
   "execution_count": 1,
   "metadata": {},
   "outputs": [],
   "source": [
    "from typing import Callable, List\n",
    "\n",
    "import matplotlib.pyplot as plt\n",
    "import numpy as np\n",
    "import pandas as pd\n",
    "from matplotlib.ticker import MaxNLocator\n",
    "\n",
    "from Model import *\n",
    "from SubjectiveLogic import Hyperopinion\n",
    "from SubjectiveLogic import Hyperopinion as W\n",
    "from SubjectiveLogic import HyperopinionInterface\n",
    "from SubjectiveLogic.BeliefFusion import (averaging_fusion, cumulative_fusion,\n",
    "                                          weighted_fusion)\n",
    "from SubjectiveLogic.Trust import trust_discount_2e\n",
    "\n",
    "import math\n"
   ]
  },
  {
   "cell_type": "code",
   "execution_count": 2,
   "metadata": {},
   "outputs": [],
   "source": [
    "def simulate(belief_array: BeliefArray, influence_graph: InfluenceGraph = [[1, 1], [1, 1]], steps=100) -> SLModel:\n",
    "    akv_model = AKVModel(belief_array, influence_graph)\n",
    "    sl_model_cumulative = akv_to_sl(akv_model)\n",
    "    # print(sl_model_cumulative.states[0][0].P[0], sl_model_cumulative.states[0][1].P[0])\n",
    "    sl_model_cumulative.simulate(steps, cumulative_fusion)\n",
    "    return sl_model_cumulative\n"
   ]
  },
  {
   "cell_type": "code",
   "execution_count": 3,
   "metadata": {},
   "outputs": [],
   "source": [
    "def findFixedPoint(beliefA: float) -> float:\n",
    "    def f(x):\n",
    "        a = simulate([beliefA, x]).states[-1][1].P[0]\n",
    "        return a\n",
    "\n",
    "    def binarySearch(low: float, high: float) -> float:\n",
    "        if (high >= low):\n",
    "            mid = low + (high - low) / 2\n",
    "        fmid = f(mid)\n",
    "        if fmid < beliefA:\n",
    "            return binarySearch(mid, high)\n",
    "        if np.isclose(beliefA, fmid):\n",
    "            return mid\n",
    "        if fmid > beliefA:\n",
    "            return binarySearch(low, mid)\n",
    "\n",
    "    return binarySearch(0.5 + 0.001, 1 - 0.001)\n"
   ]
  },
  {
   "cell_type": "code",
   "execution_count": 4,
   "metadata": {},
   "outputs": [
    {
     "name": "stdout",
     "output_type": "stream",
     "text": [
      "0.5999995\n",
      "0.33451649999999994\n",
      "0.17846250000000002\n",
      "0.25870750000000003\n",
      "0.2971445\n",
      "0.3159625\n",
      "0.30658650000000004\n",
      "0.3018755\n",
      "0.2995115\n",
      "0.3006935\n",
      "0.3001035\n",
      "0.29980749999999995\n",
      "0.29995449999999996\n",
      "0.3000295\n",
      "0.29999349999999997\n",
      "0.3000115\n",
      "0.3000015\n"
     ]
    },
    {
     "data": {
      "text/plain": [
       "0.6111115264892577"
      ]
     },
     "execution_count": 4,
     "metadata": {},
     "output_type": "execute_result"
    }
   ],
   "source": [
    "findFixedPoint(0.3)"
   ]
  },
  {
   "cell_type": "code",
   "execution_count": 5,
   "metadata": {},
   "outputs": [
    {
     "data": {
      "text/plain": [
       "<matplotlib.collections.PathCollection at 0x7f0b2e323d30>"
      ]
     },
     "execution_count": 5,
     "metadata": {},
     "output_type": "execute_result"
    },
    {
     "data": {
      "image/png": "[encoded data removed]",
      "text/plain": [
       "<Figure size 432x288 with 1 Axes>"
      ]
     },
     "metadata": {
      "needs_background": "light"
     },
     "output_type": "display_data"
    }
   ],
   "source": [
    "ar = np.array([1, 2, 3, 8, 4, 5])\n",
    "plt.scatter(ar, [0] * ar.shape[0])"
   ]
  }
 ],
 "metadata": {
  "kernelspec": {
   "display_name": "Python 3.10.6 64-bit",
   "language": "python",
   "name": "python3"
  },
  "language_info": {
   "codemirror_mode": {
    "name": "ipython",
    "version": 3
   },
   "file_extension": ".py",
   "mimetype": "text/x-python",
   "name": "python",
   "nbconvert_exporter": "python",
   "pygments_lexer": "ipython3",
   "version": "3.10.6"
  },
  "orig_nbformat": 4,
  "vscode": {
   "interpreter": {
    "hash": "916dbcbb3f70747c44a77c7bcd40155683ae19c65e1c03b4aa3499c5328201f1"
   }
  }
 },
 "nbformat": 4,
 "nbformat_minor": 2
}
