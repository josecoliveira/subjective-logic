{
 "cells": [
  {
   "cell_type": "code",
   "execution_count": 1,
   "id": "2241e39a-ca0e-4e68-a650-591f5a403692",
   "metadata": {},
   "outputs": [],
   "source": [
    "%load_ext autoreload\n",
    "%autoreload 2"
   ]
  },
  {
   "cell_type": "code",
   "execution_count": 8,
   "id": "e12509d2-53ab-4a65-b3cd-47da48c75c12",
   "metadata": {},
   "outputs": [],
   "source": [
    "from SubjectiveLogic import Hyperopinion, HyperopinionInterface\n",
    "from SubjectiveLogic import Hyperopinion as W\n",
    "from SubjectiveLogic.BeliefFusion import cumulative_fusion, averaging_fusion, weighted_fusion\n",
    "from SubjectiveLogic.Trust import trust_discount_2e\n",
    "from Model import *"
   ]
  },
  {
   "cell_type": "code",
   "execution_count": 10,
   "id": "fb3e692c-9c49-4270-9df0-1b99be2dd6e0",
   "metadata": {},
   "outputs": [
    {
     "name": "stdout",
     "output_type": "stream",
     "text": [
      "[0.  0.8]\n",
      "[0.  0.6]\n",
      "[0.  0.4]\n",
      "[0.  0.2]\n",
      "[0. 0.]\n",
      "[0.2 0. ]\n",
      "[0.4 0. ]\n",
      "[0.6 0. ]\n",
      "[0.8 0. ]\n"
     ]
    }
   ],
   "source": [
    "for belief_state in [i * 1/10 for i in range(1, 10)]:\n",
    "    opinion = belief_state_to_opinion(belief_state)\n",
    "    print(opinion.b)"
   ]
  },
  {
   "cell_type": "markdown",
   "id": "1be9c92b-1f0f-44af-8ca9-05b756c0bab1",
   "metadata": {},
   "source": [
    "Trust: 0.5, Influence: 0.5"
   ]
  },
  {
   "cell_type": "code",
   "execution_count": 4,
   "id": "362020cc-dc15-4624-b5d7-2155b46d3159",
   "metadata": {},
   "outputs": [
    {
     "data": {
      "text/plain": [
       "0.5"
      ]
     },
     "execution_count": 4,
     "metadata": {},
     "output_type": "execute_result"
    }
   ],
   "source": [
    "classic_update(0.8, 0.2, 0.5)"
   ]
  },
  {
   "cell_type": "code",
   "execution_count": 5,
   "id": "ab3a6802-7104-4167-99a6-ff85c3fdf132",
   "metadata": {},
   "outputs": [
    {
     "data": {
      "text/plain": [
       "Hyperopinion(2, [0. 0.], [0.5 0.5])"
      ]
     },
     "execution_count": 5,
     "metadata": {},
     "output_type": "execute_result"
    }
   ],
   "source": [
    "opinion_from_belief_state(0.5)"
   ]
  },
  {
   "cell_type": "code",
   "execution_count": 6,
   "id": "804e81b9-fb54-40ac-b613-67ae8e29e5e6",
   "metadata": {},
   "outputs": [
    {
     "data": {
      "text/plain": [
       "Hyperopinion(2, [0.6 0. ], [0.5 0.5])"
      ]
     },
     "execution_count": 6,
     "metadata": {},
     "output_type": "execute_result"
    }
   ],
   "source": [
    "AX = opinion_from_belief_state(0.8)\n",
    "AX"
   ]
  },
  {
   "cell_type": "code",
   "execution_count": 7,
   "id": "c8c92c64-f759-4598-b558-ab81c51d3bc6",
   "metadata": {},
   "outputs": [
    {
     "data": {
      "text/plain": [
       "Hyperopinion(2, [0.5 0.5], [0.5 0.5])"
      ]
     },
     "execution_count": 7,
     "metadata": {},
     "output_type": "execute_result"
    }
   ],
   "source": [
    "AB = trust_opinion(0.5)\n",
    "AB"
   ]
  },
  {
   "cell_type": "code",
   "execution_count": 8,
   "id": "ab2961fb-85df-47a7-b2e9-ec2bb57c217c",
   "metadata": {},
   "outputs": [
    {
     "data": {
      "text/plain": [
       "Hyperopinion(2, [0.  0.6], [0.5 0.5])"
      ]
     },
     "execution_count": 8,
     "metadata": {},
     "output_type": "execute_result"
    }
   ],
   "source": [
    "BX = opinion_from_belief_state(0.2)\n",
    "BX"
   ]
  },
  {
   "cell_type": "code",
   "execution_count": 9,
   "id": "c7a08f72-46b6-490c-bcd1-6f498ac7bc36",
   "metadata": {},
   "outputs": [
    {
     "data": {
      "text/plain": [
       "Hyperopinion(2, [0.36585366 0.        ], [0.5 0.5])"
      ]
     },
     "execution_count": 9,
     "metadata": {},
     "output_type": "execute_result"
    }
   ],
   "source": [
    "cumulative_fusion([AX, trust_discount_2e(AB, BX).maximize_uncertainty()]).maximize_uncertainty()"
   ]
  },
  {
   "cell_type": "code",
   "execution_count": null,
   "id": "490bacb5-fac0-4a32-ade4-527ce1c258eb",
   "metadata": {},
   "outputs": [],
   "source": []
  },
  {
   "cell_type": "code",
   "execution_count": null,
   "id": "06eb6a67-8343-4b43-a888-15a6184cdf68",
   "metadata": {},
   "outputs": [],
   "source": []
  },
  {
   "cell_type": "code",
   "execution_count": 10,
   "id": "708b3489-e9f4-4bdc-95e0-567df40d41a7",
   "metadata": {},
   "outputs": [
    {
     "data": {
      "text/plain": [
       "0.8"
      ]
     },
     "execution_count": 10,
     "metadata": {},
     "output_type": "execute_result"
    }
   ],
   "source": [
    "classic_update(0.5, 0.8, 1)"
   ]
  },
  {
   "cell_type": "code",
   "execution_count": null,
   "id": "a64be75e-8cff-46cb-a316-713507d48872",
   "metadata": {},
   "outputs": [],
   "source": []
  },
  {
   "cell_type": "code",
   "execution_count": null,
   "id": "14b8836a-1109-4fbc-b05b-49726db2f836",
   "metadata": {},
   "outputs": [],
   "source": []
  },
  {
   "cell_type": "code",
   "execution_count": 11,
   "id": "eb050921-5c43-4f74-b48d-9a106538e517",
   "metadata": {},
   "outputs": [
    {
     "data": {
      "text/plain": [
       "Hyperopinion(2, [0.5 0.5], [0.5 0.5])"
      ]
     },
     "execution_count": 11,
     "metadata": {},
     "output_type": "execute_result"
    }
   ],
   "source": [
    "weighted_fusion([Hyperopinion(2, [1, 0]), Hyperopinion(2, [0, 1])])"
   ]
  },
  {
   "cell_type": "code",
   "execution_count": null,
   "id": "a8c11d40-2dd8-4c63-b134-4ef1c003001d",
   "metadata": {},
   "outputs": [],
   "source": []
  },
  {
   "cell_type": "code",
   "execution_count": null,
   "id": "42ce75af-8c3e-4830-b710-3c28eb2fd1ad",
   "metadata": {},
   "outputs": [],
   "source": []
  },
  {
   "cell_type": "code",
   "execution_count": 12,
   "id": "3e8fbdb9-ef44-4a4d-9aa2-7c0a842ad850",
   "metadata": {},
   "outputs": [],
   "source": [
    "belief_array = [0.2, 0.8]\n",
    "influence_graph = [[1, 0.5], [0.5, 1]]"
   ]
  },
  {
   "cell_type": "code",
   "execution_count": 13,
   "id": "f6f71662-b77a-4ed0-9f7b-15e79104da25",
   "metadata": {},
   "outputs": [
    {
     "data": {
      "text/plain": [
       "array([0.35, 0.65])"
      ]
     },
     "execution_count": 13,
     "metadata": {},
     "output_type": "execute_result"
    }
   ],
   "source": [
    "overall_classic_update(belief_array, influence_graph)"
   ]
  },
  {
   "cell_type": "code",
   "execution_count": null,
   "id": "9e4283d1-d4eb-4996-96d1-3ae152b30fe5",
   "metadata": {},
   "outputs": [],
   "source": []
  }
 ],
 "metadata": {
  "kernelspec": {
   "display_name": "Python 3",
   "language": "python",
   "name": "python3"
  },
  "language_info": {
   "codemirror_mode": {
    "name": "ipython",
    "version": 3
   },
   "file_extension": ".py",
   "mimetype": "text/x-python",
   "name": "python",
   "nbconvert_exporter": "python",
   "pygments_lexer": "ipython3",
   "version": "3.10.6 (main, Nov 14 2022, 16:10:14) [GCC 11.3.0]"
  },
  "vscode": {
   "interpreter": {
    "hash": "916dbcbb3f70747c44a77c7bcd40155683ae19c65e1c03b4aa3499c5328201f1"
   }
  }
 },
 "nbformat": 4,
 "nbformat_minor": 5
}
