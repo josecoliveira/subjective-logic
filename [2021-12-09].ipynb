{
 "cells": [
  {
   "cell_type": "code",
   "execution_count": 1,
   "id": "018800f8-660d-4b3c-965a-38f79abe98e1",
   "metadata": {},
   "outputs": [],
   "source": [
    "%load_ext autoreload\n",
    "%autoreload 2"
   ]
  },
  {
   "cell_type": "code",
   "execution_count": 2,
   "id": "15fc586d-ebdb-4738-bc3c-409421204182",
   "metadata": {},
   "outputs": [],
   "source": [
    "from SubjectiveLogic import Hyperopinion, HyperopinionInterface\n",
    "from SubjectiveLogic import Hyperopinion as W\n",
    "from SubjectiveLogic.BeliefFusion import cumulative_fusion, averaging_fusion, weighted_fusion\n",
    "from SubjectiveLogic.Trust import trust_discount_2e\n",
    "import numpy as np\n",
    "import matplotlib.pyplot as plt\n",
    "from typing import List, Callable"
   ]
  },
  {
   "cell_type": "markdown",
   "id": "6e50980c-47d2-4213-9124-0531cab95781",
   "metadata": {},
   "source": [
    "# Types"
   ]
  },
  {
   "cell_type": "code",
   "execution_count": 3,
   "id": "7a3d7036-7cb9-45c5-9893-64bd4ae6368c",
   "metadata": {},
   "outputs": [],
   "source": [
    "State = List['HyperopinionInterface']\n",
    "TrustGraph = List[List['HyperopinionInterface']]\n",
    "TrustArray = List['HyperopinionInterface']"
   ]
  },
  {
   "cell_type": "markdown",
   "id": "a20d2b3a-844d-4dc2-8ef4-e3e0142a31a6",
   "metadata": {},
   "source": [
    "# Conversion belief state to opinion"
   ]
  },
  {
   "cell_type": "markdown",
   "id": "9b3cfb86-1cc3-4092-8696-0d22037da0d8",
   "metadata": {},
   "source": [
    "Unique hyperopinion such that belief state is the projected probability and base rate is uniform."
   ]
  },
  {
   "cell_type": "code",
   "execution_count": 4,
   "id": "4749073d-e73e-4390-b683-d63af574bf6f",
   "metadata": {},
   "outputs": [],
   "source": [
    "def opinion_from_belief_state(n: int) -> Hyperopinion:\n",
    "    return Hyperopinion(2, [n, 1 - n]).maximize_uncertainty()"
   ]
  },
  {
   "cell_type": "code",
   "execution_count": 5,
   "id": "965bee9e-fc5b-49b8-a2ba-c9bbc604bac3",
   "metadata": {},
   "outputs": [
    {
     "data": {
      "text/plain": [
       "Hyperopinion(2, [0. 0.], [0.5 0.5])"
      ]
     },
     "execution_count": 5,
     "metadata": {},
     "output_type": "execute_result"
    }
   ],
   "source": [
    "opinion_from_belief_state(0.5)"
   ]
  },
  {
   "cell_type": "code",
   "execution_count": 6,
   "id": "4450e6e0-b299-4c13-a0e8-02b8bc7ab299",
   "metadata": {},
   "outputs": [
    {
     "data": {
      "text/plain": [
       "Hyperopinion(2, [0.6 0. ], [0.5 0.5])"
      ]
     },
     "execution_count": 6,
     "metadata": {},
     "output_type": "execute_result"
    }
   ],
   "source": [
    "opinion_from_belief_state(0.8)"
   ]
  },
  {
   "cell_type": "code",
   "execution_count": 7,
   "id": "8499792b-7795-4e21-912b-0863890d5167",
   "metadata": {},
   "outputs": [
    {
     "data": {
      "text/plain": [
       "Hyperopinion(2, [0.  0.6], [0.5 0.5])"
      ]
     },
     "execution_count": 7,
     "metadata": {},
     "output_type": "execute_result"
    }
   ],
   "source": [
    "opinion_from_belief_state(0.2)"
   ]
  },
  {
   "cell_type": "markdown",
   "id": "d68cf0d1-ddca-4fce-94fc-3d38de3fb73e",
   "metadata": {},
   "source": [
    "# Inicial state"
   ]
  },
  {
   "cell_type": "markdown",
   "id": "e5b8988e-aca5-42a0-8bcf-b2ec799acd3e",
   "metadata": {},
   "source": [
    "## Uniform"
   ]
  },
  {
   "cell_type": "code",
   "execution_count": 8,
   "id": "fd664be5-d2d9-4324-a348-9112db82cbbb",
   "metadata": {},
   "outputs": [],
   "source": [
    "def uniform_state(n: int) -> Hyperopinion:\n",
    "    ans = []\n",
    "    for i in range(n):\n",
    "        ans.append(opinion_from_belief_state(i / (n - 1)))\n",
    "    return(ans)"
   ]
  },
  {
   "cell_type": "code",
   "execution_count": 9,
   "id": "423a6b9f-1f25-4453-b98b-dbc726a8c267",
   "metadata": {},
   "outputs": [
    {
     "data": {
      "text/plain": [
       "[Hyperopinion(2, [0. 1.], [0.5 0.5]),\n",
       " Hyperopinion(2, [0.  0.8], [0.5 0.5]),\n",
       " Hyperopinion(2, [0.  0.6], [0.5 0.5]),\n",
       " Hyperopinion(2, [0.  0.4], [0.5 0.5]),\n",
       " Hyperopinion(2, [0.  0.2], [0.5 0.5]),\n",
       " Hyperopinion(2, [0. 0.], [0.5 0.5]),\n",
       " Hyperopinion(2, [0.2 0. ], [0.5 0.5]),\n",
       " Hyperopinion(2, [0.4 0. ], [0.5 0.5]),\n",
       " Hyperopinion(2, [0.6 0. ], [0.5 0.5]),\n",
       " Hyperopinion(2, [0.8 0. ], [0.5 0.5]),\n",
       " Hyperopinion(2, [1. 0.], [0.5 0.5])]"
      ]
     },
     "execution_count": 9,
     "metadata": {},
     "output_type": "execute_result"
    }
   ],
   "source": [
    "uniform_state(11)"
   ]
  },
  {
   "cell_type": "markdown",
   "id": "2947ecb6-cb6c-484a-b91f-0a531b8eca6b",
   "metadata": {},
   "source": [
    "## Consensus"
   ]
  },
  {
   "cell_type": "code",
   "execution_count": 10,
   "id": "96d8696e-c26b-4f8a-961f-5b5b0b85eef2",
   "metadata": {},
   "outputs": [],
   "source": [
    "def consensus_state(n: int, b) -> State:\n",
    "    ans = []\n",
    "    for i in range(n):\n",
    "        ans.append(opinion_from_belief_state(b))\n",
    "    return(ans)"
   ]
  },
  {
   "cell_type": "code",
   "execution_count": 11,
   "id": "19ed2e25-0c3e-47a9-b938-b36e041e172f",
   "metadata": {},
   "outputs": [
    {
     "data": {
      "text/plain": [
       "[Hyperopinion(2, [0. 0.], [0.5 0.5]),\n",
       " Hyperopinion(2, [0. 0.], [0.5 0.5]),\n",
       " Hyperopinion(2, [0. 0.], [0.5 0.5]),\n",
       " Hyperopinion(2, [0. 0.], [0.5 0.5]),\n",
       " Hyperopinion(2, [0. 0.], [0.5 0.5]),\n",
       " Hyperopinion(2, [0. 0.], [0.5 0.5]),\n",
       " Hyperopinion(2, [0. 0.], [0.5 0.5]),\n",
       " Hyperopinion(2, [0. 0.], [0.5 0.5]),\n",
       " Hyperopinion(2, [0. 0.], [0.5 0.5]),\n",
       " Hyperopinion(2, [0. 0.], [0.5 0.5])]"
      ]
     },
     "execution_count": 11,
     "metadata": {},
     "output_type": "execute_result"
    }
   ],
   "source": [
    "consensus_state(10, 0.5)"
   ]
  },
  {
   "cell_type": "markdown",
   "id": "c59f3568-3cbe-45cd-b506-3f1faf697800",
   "metadata": {},
   "source": [
    "# Trust graph"
   ]
  },
  {
   "cell_type": "markdown",
   "id": "21973b75-0430-4282-bd31-2ee745cad59d",
   "metadata": {},
   "source": [
    "## Clique"
   ]
  },
  {
   "cell_type": "code",
   "execution_count": 12,
   "id": "96183abd-fe3a-40ae-8ffa-ec2aa83a6f62",
   "metadata": {},
   "outputs": [],
   "source": [
    "def clique(n: int, belief: float) -> TrustGraph:\n",
    "    trust_graph = []\n",
    "    for i in range(n):\n",
    "        trust_graph.append([Hyperopinion(2, [belief, 1 - belief]) if i != j else None for j in range(n)])\n",
    "    return trust_graph"
   ]
  },
  {
   "cell_type": "code",
   "execution_count": 13,
   "id": "9d095275-e206-454f-83a0-3cab5b614bf9",
   "metadata": {},
   "outputs": [
    {
     "data": {
      "text/plain": [
       "{0: [None,\n",
       "  Hyperopinion(2, [0.5 0.5], [0.5 0.5]),\n",
       "  Hyperopinion(2, [0.5 0.5], [0.5 0.5])],\n",
       " 1: [Hyperopinion(2, [0.5 0.5], [0.5 0.5]),\n",
       "  None,\n",
       "  Hyperopinion(2, [0.5 0.5], [0.5 0.5])],\n",
       " 2: [Hyperopinion(2, [0.5 0.5], [0.5 0.5]),\n",
       "  Hyperopinion(2, [0.5 0.5], [0.5 0.5]),\n",
       "  None]}"
      ]
     },
     "execution_count": 13,
     "metadata": {},
     "output_type": "execute_result"
    }
   ],
   "source": [
    "trust_graph = clique(3, 0.5)\n",
    "{i : trust_graph[i] for i in range(len(trust_graph))}"
   ]
  },
  {
   "cell_type": "markdown",
   "id": "abf6ce99-fd4b-40cc-bfca-ca66892b0ac2",
   "metadata": {},
   "source": [
    "# Update"
   ]
  },
  {
   "cell_type": "code",
   "execution_count": 14,
   "id": "35b09f55-2df6-466a-8ad0-fd452ffa2769",
   "metadata": {
    "tags": []
   },
   "outputs": [],
   "source": [
    "def update(\n",
    "        fusion_operator: Callable[[int], State],\n",
    "        truster_index: int,\n",
    "        trust_array: TrustArray,\n",
    "        state: State) -> HyperopinionInterface:\n",
    "    truster_opinion = state[truster_index]\n",
    "    discount_array = [trust_discount_2e(trust_array[trustee_index], state[trustee_index])\n",
    "        for trustee_index in range(len(state)) if truster_index != trustee_index]\n",
    "    new_opinion = fusion_operator([truster_opinion] + discount_array)\n",
    "    return new_opinion"
   ]
  },
  {
   "cell_type": "code",
   "execution_count": 15,
   "id": "86e87138-8b17-40f3-a978-3ba308ffdb89",
   "metadata": {},
   "outputs": [
    {
     "data": {
      "text/plain": [
       "1.0"
      ]
     },
     "execution_count": 15,
     "metadata": {},
     "output_type": "execute_result"
    }
   ],
   "source": [
    "AX = opinion_from_belief_state(0.5)\n",
    "BX = opinion_from_belief_state(1)\n",
    "AB = Hyperopinion(2, [0.5, 0])\n",
    "BA = Hyperopinion(2, [1, 0])\n",
    "update(cumulative_fusion, 0, [AB, BA], [AX, BX]).P[0]"
   ]
  },
  {
   "cell_type": "code",
   "execution_count": 16,
   "id": "1e149c66-791f-4b06-adca-5d80facd9275",
   "metadata": {},
   "outputs": [
    {
     "name": "stdout",
     "output_type": "stream",
     "text": [
      "k = 2\n",
      "            \n",
      "b({0}) = 0.0\n",
      "b({1}) = 0.0\n",
      "u = 1.0\n",
      "\n",
      "a({0}) = 0.5\n",
      "a({1}) = 0.5\n",
      "\n",
      "P({0}) = 0.5\n",
      "P({1}) = 0.5\n"
     ]
    }
   ],
   "source": [
    "AX = opinion_from_belief_state(0.5)\n",
    "print(AX)"
   ]
  },
  {
   "cell_type": "code",
   "execution_count": 17,
   "id": "aa41fa0a-30f5-4896-ade2-7cb8229c976c",
   "metadata": {},
   "outputs": [
    {
     "name": "stdout",
     "output_type": "stream",
     "text": [
      "k = 2\n",
      "            \n",
      "b({0}) = 1.0\n",
      "b({1}) = 0.0\n",
      "u = 0.0\n",
      "\n",
      "a({0}) = 0.5\n",
      "a({1}) = 0.5\n",
      "\n",
      "P({0}) = 1.0\n",
      "P({1}) = 0.0\n"
     ]
    }
   ],
   "source": [
    "BX = opinion_from_belief_state(1)\n",
    "print(BX)"
   ]
  },
  {
   "cell_type": "code",
   "execution_count": 18,
   "id": "5b6708c7-5e29-426a-843b-27143c4b77ec",
   "metadata": {},
   "outputs": [
    {
     "data": {
      "text/plain": [
       "Hyperopinion(2, [0.5 0. ], [0.5 0.5])"
      ]
     },
     "execution_count": 18,
     "metadata": {},
     "output_type": "execute_result"
    }
   ],
   "source": [
    "AB = Hyperopinion(2, [0.5, 0])\n",
    "AB"
   ]
  },
  {
   "cell_type": "code",
   "execution_count": 19,
   "id": "a3e2e5e4-aa28-4914-9f6c-4331c505d2a6",
   "metadata": {},
   "outputs": [
    {
     "data": {
      "text/plain": [
       "Hyperopinion(2, [0.5 0. ], [0.5 0.5])"
      ]
     },
     "execution_count": 19,
     "metadata": {},
     "output_type": "execute_result"
    }
   ],
   "source": [
    "BA = Hyperopinion(2, [0.5, 0])\n",
    "BA"
   ]
  },
  {
   "cell_type": "code",
   "execution_count": 20,
   "id": "995c2dfb-bef2-4c30-903a-a500f2cfc8c7",
   "metadata": {},
   "outputs": [
    {
     "data": {
      "text/plain": [
       "Hyperopinion(2, [0. 0.], [0.5 0.5])"
      ]
     },
     "execution_count": 20,
     "metadata": {},
     "output_type": "execute_result"
    }
   ],
   "source": [
    "BAX = trust_discount_2e(BA, AX)\n",
    "BAX"
   ]
  },
  {
   "cell_type": "code",
   "execution_count": 21,
   "id": "0b874bd4-fc0e-4d26-a043-da3a6a1efd15",
   "metadata": {},
   "outputs": [
    {
     "data": {
      "text/plain": [
       "1.0"
      ]
     },
     "execution_count": 21,
     "metadata": {},
     "output_type": "execute_result"
    }
   ],
   "source": [
    "averaging_fusion([BX, BAX]).P[0] # Why"
   ]
  },
  {
   "cell_type": "code",
   "execution_count": 22,
   "id": "da6badf3-b4c4-414e-812f-104d9cb870fb",
   "metadata": {
    "tags": []
   },
   "outputs": [
    {
     "data": {
      "text/plain": [
       "1.0"
      ]
     },
     "execution_count": 22,
     "metadata": {},
     "output_type": "execute_result"
    }
   ],
   "source": [
    "cumulative_fusion([BX, BAX]).P[0]"
   ]
  },
  {
   "cell_type": "markdown",
   "id": "daed9a5e-b5b6-41c9-8243-d865b3cf84fb",
   "metadata": {},
   "source": [
    "# Original polarization paper"
   ]
  },
  {
   "cell_type": "code",
   "execution_count": 23,
   "id": "1a2d4fac-2d27-475a-b0db-1295a54f74d2",
   "metadata": {},
   "outputs": [
    {
     "data": {
      "text/plain": [
       "0.9600000000000001"
      ]
     },
     "execution_count": 23,
     "metadata": {},
     "output_type": "execute_result"
    }
   ],
   "source": [
    "0.8 + 0.8 * 0.2"
   ]
  },
  {
   "cell_type": "code",
   "execution_count": 26,
   "id": "b1aae098-66f2-43d0-a5c7-8aace5621612",
   "metadata": {},
   "outputs": [],
   "source": [
    "AB = Hyperopinion(2, [0.5, 0.5])"
   ]
  },
  {
   "cell_type": "code",
   "execution_count": null,
   "id": "befa5366-3a3e-4af4-859e-61e43eb027ad",
   "metadata": {},
   "outputs": [],
   "source": []
  }
 ],
 "metadata": {
  "kernelspec": {
   "display_name": "Python 3 (ipykernel)",
   "language": "python",
   "name": "python3"
  },
  "language_info": {
   "codemirror_mode": {
    "name": "ipython",
    "version": 3
   },
   "file_extension": ".py",
   "mimetype": "text/x-python",
   "name": "python",
   "nbconvert_exporter": "python",
   "pygments_lexer": "ipython3",
   "version": "3.8.10"
  }
 },
 "nbformat": 4,
 "nbformat_minor": 5
}
