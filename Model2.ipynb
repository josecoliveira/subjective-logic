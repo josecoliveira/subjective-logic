{
 "cells": [
  {
   "cell_type": "code",
   "execution_count": 1,
   "id": "2bcd678d-4b65-4496-8f31-f395958ba0f8",
   "metadata": {},
   "outputs": [],
   "source": [
    "%load_ext autoreload\n",
    "%autoreload 2"
   ]
  },
  {
   "cell_type": "code",
   "execution_count": 2,
   "id": "c8b07538-39d1-40f3-8b5a-b06ac12a0076",
   "metadata": {},
   "outputs": [],
   "source": [
    "from SubjectiveLogic import Hyperopinion, HyperopinionInterface\n",
    "from SubjectiveLogic import Hyperopinion as W\n",
    "from SubjectiveLogic.BeliefFusion import cumulative_fusion, averaging_fusion, weighted_fusion\n",
    "from SubjectiveLogic.Trust import trust_discount_2e\n",
    "import numpy as np\n",
    "import matplotlib.pyplot as plt\n",
    "from typing import List, Callable"
   ]
  },
  {
   "cell_type": "markdown",
   "id": "1edaf419-cbe9-4591-a31f-7ce562bfe32e",
   "metadata": {},
   "source": [
    "# Opinions"
   ]
  },
  {
   "cell_type": "markdown",
   "id": "668c6650-43d3-4091-aa59-979a4e7badbe",
   "metadata": {},
   "source": [
    "## Aleatory and epistemic opinions (from section 3.3 of Jøsang's book)"
   ]
  },
  {
   "cell_type": "markdown",
   "id": "8d960bc9-e134-4474-b0d3-c512f8fbab34",
   "metadata": {},
   "source": [
    "An important aspect of uncertainty quantification in the scientific literature is the distinction between aleatory and epistemic uncertainty, described below.\n",
    "\n",
    "- _Aleatory uncertainty_ which is the same as statistical uncertainty, expresses that we do not know the outcome each time we run the same experiment, we only know the long-term relative frequency of outcomes. For example, flipping a coin, which could be unfair.\n",
    "- _Epistemic uncertainty_ expresses that we could in principle know the outcome of a specific or future or past event, but that we do not have enough evidence to know it exactly. For example, the assassination of President Kennedy in 1963 is believed by most people to have been committed by Lee Harvey Oswald, but there is considerable uncertainty around it.\n",
    "\n",
    "Note that both aleatory and epistemic uncertainty represent _first-order_ uncertainty, and therefore are not the same type of uncertainty as the uncertainty mass in opinions, which represents _second-order uncertainty_. Uncertainty of a binary variable are greatest with $p = \\frac{1}{2}$. In contrast, when an opinion has projected probability $\\mathbf{P}_X(x) = \\frac{1}{2}$ for some value $x$, it says nothing about the amount of uncertainty mass $u_X$ in the opinion.\n",
    "\n",
    "This distinction between aleatory and epistemic (first-order) uncertainty puts constraints on the opinion classes that naturally apply to specific situation.\n",
    "\n",
    "- _An aleatory opinion_ applies to a variable governed by a frequentist process, and that represents the (uncertain) likelihood of values of the variable in any unknown past or future instance of the process. An aleatory opinion can naturally have an _arbitrary uncertainty mass_.\n",
    "- _An epistemic opinion_ applies to a variable that is assumed to be non-frequentist, and that represents the (uncertain) likelihood of values of the variable in a specific unknown past or future instance. An aleatory opinion is naturally _constrained to be uncertainty-maximised_.\n",
    "\n",
    "The reason why epistemic opinions should be uncertainty-maximised is that epistemic evidence can not be accumulated in a statistical manner, which would reduce the uncertainty mass. Instead, different pieces of epistemic evidence that support opposite/different values should cancel each other out. (❗ Like Mário said. I need to find out the properties of belief fusion operators when fusing epistemic opinions.)\n",
    "\n",
    "For social networks, the polarization paper uses epistemic propositions, thus I may be focusing on epistemic opinions."
   ]
  },
  {
   "cell_type": "markdown",
   "id": "0dcd9a32-3a93-4ce4-b084-caeee8b1d6c9",
   "metadata": {},
   "source": [
    "## Uncertainty maximization"
   ]
  },
  {
   "cell_type": "markdown",
   "id": "fb3dda0e-815b-4add-865a-3afa367c215f",
   "metadata": {},
   "source": [
    "Uncertainty maximization is the process to maximize uncertainty mass while keeping the same projected probability distribution. The corresponding uncertainty-maximized opinion is denoted $\\ddot{\\omega}_X = (\\ddot{\\mathbf{b}}_X, \\ddot{u}_X, \\ddot{\\mathbf{a}}_X)$.\n",
    "\n",
    "**Definition:** _(Uncertainty maximization)_ Let $\\omega_X = (\\mathbf{b}_X, u_X, \\mathbf{a}_X)$ be an opinion. The uncertainty maximized opinion from $\\omega_X$ is \n",
    "$$\\ddot{\\omega}_X = (\\ddot{\\mathbf{b}}_X, \\ddot{u}_X, \\ddot{\\mathbf{a}}_X)$$\n",
    "such that\n",
    "- $\\ddot{u}_X = \\min\\limits_{x \\in \\mathbb{X}} \\left(\\dfrac{\\mathbf{P}_X(x)}{\\mathbf{a}_X(x)}\\right)$\n",
    "- $\\ddot{\\mathbf{b}}_X(x) = \\mathbf{P}_X(x) - \\mathbf{a}_X(x) \\ddot{u}_X$, for $x \\in \\mathbb{X}$\n",
    "- $\\ddot{\\mathbf{a}}_X = \\mathbf{a}_X$\n",
    "\n",
    "In the case of hyper-opinions, there is no simple method for redistributing belief mass from singletons (❗ unit subset of the domain) and composite values (❗ proper subset of the domain) and composite values to form increased uncertainty mass in a consistent way. It is not meaningful to distinguish between aleatory and epistemic opinions in the case of hyper-opinions. (❓ I'm not sure why)"
   ]
  },
  {
   "cell_type": "code",
   "execution_count": 3,
   "id": "71474582-6ac2-4bc2-aeae-142cc0bca944",
   "metadata": {},
   "outputs": [
    {
     "data": {
      "text/plain": [
       "array([0.7, 0.3])"
      ]
     },
     "execution_count": 3,
     "metadata": {},
     "output_type": "execute_result"
    }
   ],
   "source": [
    "A = Hyperopinion(2, [0.7, 0.3])\n",
    "A.P # Projected probability of A"
   ]
  },
  {
   "cell_type": "code",
   "execution_count": 4,
   "id": "eb538148-9ddb-44d0-bf59-2655ae0f07cb",
   "metadata": {},
   "outputs": [
    {
     "name": "stdout",
     "output_type": "stream",
     "text": [
      "0.6\n",
      "[0.5 0.5]\n",
      "[0.4 0. ]\n"
     ]
    },
    {
     "data": {
      "text/plain": [
       "Hyperopinion(2, [0.4 0. ], [0.5 0.5])"
      ]
     },
     "execution_count": 4,
     "metadata": {},
     "output_type": "execute_result"
    }
   ],
   "source": [
    "A_ = A.maximize_uncertainty()\n",
    "A_ # A uncertainty maximized"
   ]
  },
  {
   "cell_type": "code",
   "execution_count": 5,
   "id": "7c1cc974-7ff2-4442-878b-f51318f53c48",
   "metadata": {},
   "outputs": [
    {
     "data": {
      "text/plain": [
       "array([0.7, 0.3])"
      ]
     },
     "execution_count": 5,
     "metadata": {},
     "output_type": "execute_result"
    }
   ],
   "source": [
    "A.P # Same projected probability after uncertainty maximization"
   ]
  },
  {
   "cell_type": "markdown",
   "id": "3aad85ba-b83d-455f-a7b5-dcd4d0d156e2",
   "metadata": {},
   "source": [
    "## Definition of opinion"
   ]
  },
  {
   "cell_type": "markdown",
   "id": "94b7d68b-b377-4d7f-8ffc-f5998edb0972",
   "metadata": {},
   "source": [
    "A *belief state* in the polarization paper is $\\mathrm{Bel}_p : A \\rightarrow [0, 1]$. Would be trivial if we had only 1 degree of freedom for subjective logic's binomial opinions, but we have 2."
   ]
  },
  {
   "cell_type": "markdown",
   "id": "b7d669cc-c695-4235-a96b-894851c17c82",
   "metadata": {},
   "source": [
    "**Definition:** *(Multinomial opinion)* Let $\\mathbb{X}$ be a domain and $k = |X|$. Let $X$ be a random variable in $\\mathbb{X}$. A multinomial opinion over the random variable $X$ is the ordered triplet $\\omega_X = (\\mathbf{b}_X, u_X , \\mathbf{a}_X)$ where\n",
    "\n",
    "- $\\mathbf{b}_X$ is a belief mass distribution over $X$,\n",
    "- $u_X$ is the uncertainty mass which represents the vacuity of evidence,\n",
    "- $\\mathbf{a}_X$ is a base rate distribution over $\\mathbb{X}$,\n",
    "\n",
    "and $\\sum_{x \\in \\mathbb{X}} \\mathbf{b}_X(x) + u_X = 1$.\n",
    "\n",
    "<!-- **Definition:** *(Binomial opinion)* Let $\\mathbb{X} = \\{x, \\overline{x}\\}$ be a binary domain with binomial random variable $X \\in \\mathbb{X}$. A binomial opinion over the random variable $X$ is the ordered triplet $\\omega_X = (\\mathbf{b}_X, u_X , \\mathbf{a}_X)$ where\n",
    "- $\\mathbf{b}_X$ is a belief mass distribution over $X$,\n",
    "- $u_X$ is the uncertainty mass which represents the vacuity of evidence,\n",
    "- $\\mathbf{a}_X$ is a base rate distribution over $\\mathbb{X}$, -->"
   ]
  },
  {
   "cell_type": "markdown",
   "id": "bf18e539-99ee-41a4-9cdf-9e8e6d8ecb5b",
   "metadata": {},
   "source": [
    "The projected probability distribution of multinomial opinions is defined by:\n",
    "$$\\mathbf{P}_X(x) = \\mathbf{b}_X(x) + \\mathbf{a}_X(x) u_X,\\ \\forall x \\in \\mathbb{X}\\text{.}$$"
   ]
  },
  {
   "cell_type": "markdown",
   "id": "e166bce4-a5b4-41f4-a405-a74357ad6241",
   "metadata": {},
   "source": [
    "To reproduce the beliefs from the polarization paper, we need to use binomial opinions. So when we say *opinion*, we are talking about a *binomial opinion*, a *multinomial opinion* with $k = 2$."
   ]
  },
  {
   "cell_type": "code",
   "execution_count": 6,
   "id": "f737ebf4-1e4c-4398-988e-4e993a34f57d",
   "metadata": {},
   "outputs": [],
   "source": [
    "# Hyperopinion(2, [b1, b2])"
   ]
  },
  {
   "cell_type": "markdown",
   "id": "0032fa46-ed8a-4a84-bcd8-ca0d7f0e02d5",
   "metadata": {},
   "source": [
    "Here I describe types of opinions that we will use."
   ]
  },
  {
   "cell_type": "markdown",
   "id": "60188526-e31d-438b-ad95-a922e165300c",
   "metadata": {},
   "source": [
    "## Dogmatic opinion"
   ]
  },
  {
   "cell_type": "markdown",
   "id": "54c366b8-bdaf-467f-bd8b-453101130461",
   "metadata": {},
   "source": [
    "A *dogmatic opinion* is a totally certain opinion, i.e. $u_x = 0$. A dogmatic opinion corresponds to the probability of $x$ in probabilistic logic.\n",
    "\n",
    "If $\\mathrm{Bel}_X(A) = B$, then $\\omega^A_X = ((B, 1 - B), 0, \\mathbf{a}_X)$."
   ]
  },
  {
   "cell_type": "markdown",
   "id": "7a43aaf5-54aa-450c-bbd9-ec2e8acb9e50",
   "metadata": {},
   "source": [
    "**Example:** $\\mathrm{Bel}^A_X = 0.3$.\n",
    "\n",
    "$\\omega^A_X = ((0.3, 0.7), 0, \\mathbf{a}_X)$. Agent $A$ agrees by $30\\%$ and disagrees by $70\\%$."
   ]
  },
  {
   "cell_type": "code",
   "execution_count": 7,
   "id": "ed9b4795-250c-4cb5-97ee-d82136cac008",
   "metadata": {},
   "outputs": [
    {
     "data": {
      "text/plain": [
       "Hyperopinion(2, [0.3 0.7], [0.5 0.5])"
      ]
     },
     "execution_count": 7,
     "metadata": {},
     "output_type": "execute_result"
    }
   ],
   "source": [
    "Hyperopinion(2, [0.3, 0.7])"
   ]
  },
  {
   "cell_type": "markdown",
   "id": "c0874004-cf71-483b-b72a-7693270f94af",
   "metadata": {},
   "source": [
    "**Example:** \"_A coin is biased to show heads by 70%_\" is an aleatory opinion and dogmatic because there is no uncertainty about the coin's bias.\n",
    "\n",
    "$\\omega_X = ((0.7, 0.3), 0, \\mathbf{a}_X)$"
   ]
  },
  {
   "cell_type": "code",
   "execution_count": 8,
   "id": "da50206e-6379-431c-b6ab-e2281703598d",
   "metadata": {},
   "outputs": [
    {
     "data": {
      "text/plain": [
       "Hyperopinion(2, [0.7 0.3], [0.5 0.5])"
      ]
     },
     "execution_count": 8,
     "metadata": {},
     "output_type": "execute_result"
    }
   ],
   "source": [
    "Hyperopinion(2, [0.7, 0.3])"
   ]
  },
  {
   "cell_type": "markdown",
   "id": "736f5ba4-2583-4fd2-b333-3a1ffca66860",
   "metadata": {},
   "source": [
    "**Example:** ❓ How to explain epistemic opinion with an example?"
   ]
  },
  {
   "cell_type": "code",
   "execution_count": 9,
   "id": "9f084808-d898-4461-a082-572550fd63ce",
   "metadata": {},
   "outputs": [
    {
     "name": "stdout",
     "output_type": "stream",
     "text": [
      "0.6\n",
      "[0.5 0.5]\n",
      "[0.4 0. ]\n"
     ]
    },
    {
     "data": {
      "text/plain": [
       "Hyperopinion(2, [0.4 0. ], [0.5 0.5])"
      ]
     },
     "execution_count": 9,
     "metadata": {},
     "output_type": "execute_result"
    }
   ],
   "source": [
    "Hyperopinion(2, [0.7, 0.3]).maximize_uncertainty()"
   ]
  },
  {
   "cell_type": "markdown",
   "id": "52387e64-e55f-4ad5-8c7d-99b46cfd8266",
   "metadata": {},
   "source": [
    "## Fixed disbelief opinion"
   ]
  },
  {
   "cell_type": "markdown",
   "id": "219a65aa-67f8-4add-bb6f-d6d59d93a382",
   "metadata": {},
   "source": [
    "If $\\mathrm{Bel}_X(A) = B$, then $\\omega^A_X = ((B, 0), 1 - B, \\mathbf{a}_X)$."
   ]
  },
  {
   "cell_type": "markdown",
   "id": "63096348-a9c7-42f7-8d1e-78f2d45c6be1",
   "metadata": {},
   "source": [
    "**Example:** $\\mathrm{Bel}_X(A) = 0.3$.\n",
    "\n",
    "$\\omega^A_X = ((0.3, 0), 0.7, \\mathbf{a}_X)$. Agent $A$ agrees by $30\\%$ and is uncertain by $70\\%$."
   ]
  },
  {
   "cell_type": "code",
   "execution_count": 10,
   "id": "0e0484ae-d0a7-4db4-ac7b-cae987ab48b0",
   "metadata": {},
   "outputs": [
    {
     "data": {
      "text/plain": [
       "Hyperopinion(2, [0.3 0. ], [0.5 0.5])"
      ]
     },
     "execution_count": 10,
     "metadata": {},
     "output_type": "execute_result"
    }
   ],
   "source": [
    "Hyperopinion(2, [0.3, 0])"
   ]
  },
  {
   "cell_type": "markdown",
   "id": "1efad154-aadc-476e-86e6-238ebdf2816d",
   "metadata": {},
   "source": [
    "## Non-dogmatic fixed uncertainty"
   ]
  },
  {
   "cell_type": "markdown",
   "id": "27f27d9d-445d-4c05-80d4-9f32a737d167",
   "metadata": {},
   "source": [
    "If $\\mathrm{Bel}_X(A) = B$, then $\\omega^A_X = ((B(1 - u_X), (1 - B)(1 - u_X)), u_X, \\mathbf{a}_X)$, for some $0 < u_X < 1$. This is useful for simulations with belief fusion when comparing with dogmatic opinion."
   ]
  },
  {
   "cell_type": "markdown",
   "id": "dcfb9b71-3a9a-44b8-9c69-5806b380a1a1",
   "metadata": {},
   "source": [
    "**Example:** $\\mathrm{Bel}_X(A) = 0.5$. $u_X = 0.1$\n",
    "\n",
    "$\\omega^A_X = ((0.45, 0.45), 0.1, \\mathbf{a}_X)$. Agent $A$ agrees by $45\\%$, disagrees by $45\\%$, and is uncertain by $10\\%$."
   ]
  },
  {
   "cell_type": "code",
   "execution_count": 11,
   "id": "f28925b9-01f1-48af-ad2e-888ffe73dd19",
   "metadata": {},
   "outputs": [
    {
     "data": {
      "text/plain": [
       "Hyperopinion(2, [0.45 0.45], [0.5 0.5])"
      ]
     },
     "execution_count": 11,
     "metadata": {},
     "output_type": "execute_result"
    }
   ],
   "source": [
    "Hyperopinion(2, [0.45, 0.45])"
   ]
  },
  {
   "cell_type": "markdown",
   "id": "804b7906-58ea-4c91-a6af-8489fb223b71",
   "metadata": {},
   "source": [
    "# Update function"
   ]
  },
  {
   "cell_type": "markdown",
   "id": "8d902d04-94c3-4508-84a0-3717ba8063dd",
   "metadata": {},
   "source": [
    "## Mapping between opinion and Dirithlet PDF"
   ]
  },
  {
   "cell_type": "markdown",
   "id": "8e05d949-4c57-4749-be7d-c7bf03f4cc5b",
   "metadata": {},
   "source": [
    "Explain what it means *amount of evidence* when talking about opinions. This is necessary for understanding belief fusion."
   ]
  },
  {
   "cell_type": "markdown",
   "id": "0119c382-fe68-43e6-8ce8-8e4573124b49",
   "metadata": {},
   "source": [
    "## Belief fusion"
   ]
  },
  {
   "cell_type": "markdown",
   "id": "9fe4501c-9ce8-4e6a-9274-388fc9e27727",
   "metadata": {},
   "source": [
    "Define the belief fusion operator, their properties, and what does that mean in terms of amount of evidence."
   ]
  },
  {
   "cell_type": "markdown",
   "id": "908498ef-964f-4a38-8c5f-778dadc67112",
   "metadata": {},
   "source": [
    "### Cumulative fusion"
   ]
  },
  {
   "cell_type": "markdown",
   "id": "52bc778a-1304-48e8-afbd-f3f01adfbee2",
   "metadata": {},
   "source": [
    "Sum of evidences."
   ]
  },
  {
   "cell_type": "markdown",
   "id": "3a9000d1-7ea5-4bf9-bafd-2adc16a6a9b6",
   "metadata": {},
   "source": [
    "### Averaging fusion"
   ]
  },
  {
   "cell_type": "markdown",
   "id": "5ee799ec-c245-4f41-ab04-ffa5a5cb8e03",
   "metadata": {},
   "source": [
    "Average of evidences."
   ]
  },
  {
   "cell_type": "markdown",
   "id": "ba3ff76f-1b5b-42b5-9be5-7fe43d16e56d",
   "metadata": {},
   "source": [
    "### Weighted fusion"
   ]
  },
  {
   "cell_type": "markdown",
   "id": "63713d78-3417-4f68-99b1-d3789cccf015",
   "metadata": {},
   "source": [
    "Average of evidences weighted by confidence."
   ]
  },
  {
   "cell_type": "markdown",
   "id": "081fd0c8-b9f2-4076-a75d-93576cc8e52d",
   "metadata": {},
   "source": [
    "## Trust discount"
   ]
  },
  {
   "cell_type": "markdown",
   "id": "a3b09abc-8c60-4610-a46c-f43c8790ef91",
   "metadata": {},
   "source": [
    "Define trust discount operator."
   ]
  },
  {
   "cell_type": "markdown",
   "id": "6cc8fead-b972-4558-8bad-a60b2c35182f",
   "metadata": {},
   "source": [
    "## Update function"
   ]
  },
  {
   "cell_type": "markdown",
   "id": "a25babb6-b062-4c5f-b1f1-c46689a77798",
   "metadata": {},
   "source": [
    "Fuse A's opinion with what A learns by trusting others."
   ]
  },
  {
   "cell_type": "markdown",
   "id": "c2c5ad44-8170-4284-9550-0cbc13fd15f7",
   "metadata": {},
   "source": [
    "# Initial states"
   ]
  },
  {
   "cell_type": "markdown",
   "id": "6e8fb0e5-5be0-4fdd-89ca-d0bc6ae3273b",
   "metadata": {},
   "source": [
    "Show some initial states."
   ]
  },
  {
   "cell_type": "markdown",
   "id": "ab4f7a3a-7284-42dc-9022-73241944196d",
   "metadata": {},
   "source": [
    "## Only dogmatic opinions"
   ]
  },
  {
   "cell_type": "markdown",
   "id": "0af66364-fd83-4ab2-a910-5e88df93c01b",
   "metadata": {},
   "source": [
    "To show how dogmatic opinions doesn't change if trust is less than 1. Trust equal to 1 goes to average."
   ]
  },
  {
   "cell_type": "markdown",
   "id": "b8b0cdf6-2ae6-4344-8692-535f81b4cec7",
   "metadata": {},
   "source": [
    "## Only fixed disbelief opinions"
   ]
  },
  {
   "cell_type": "markdown",
   "id": "07a26a80-0237-4da4-bbe7-6a132d1f2fdc",
   "metadata": {},
   "source": [
    "To show how opinions converge to vacuous (u = 1) if trust is less than 1. I need to test when trust is 1."
   ]
  },
  {
   "cell_type": "markdown",
   "id": "89ff37f7-57a4-4eea-bc9e-b5fdb32c5d8d",
   "metadata": {},
   "source": [
    "## Only non-dogmatic fixed uncertainty opinions"
   ]
  },
  {
   "cell_type": "markdown",
   "id": "f28fc4e2-9aef-44c2-a3ce-46638db881ac",
   "metadata": {},
   "source": [
    "I didn't tried yet."
   ]
  },
  {
   "cell_type": "markdown",
   "id": "57e636b5-5ccb-4d29-ba29-a806a651e180",
   "metadata": {},
   "source": [
    "## Only one dogmatic opinion\n",
    "\n",
    "Useful to show how dogmatic opinions remains unchanged and influence non-dogmatic opinions."
   ]
  },
  {
   "cell_type": "markdown",
   "id": "eec7054f-33ad-40a2-bb93-23a19dfc77c6",
   "metadata": {},
   "source": [
    "# Simulations"
   ]
  },
  {
   "cell_type": "markdown",
   "id": "a6c7bc88-7945-4331-83ba-e6a526de34a6",
   "metadata": {},
   "source": [
    "Lacração, marxismo e bruxaria."
   ]
  },
  {
   "cell_type": "markdown",
   "id": "2f99cbbf-3c77-4256-8d31-e52a97745091",
   "metadata": {},
   "source": [
    "## "
   ]
  },
  {
   "cell_type": "code",
   "execution_count": 12,
   "id": "aa8f67f0-67ba-44b6-9ead-cd0f43ad2db1",
   "metadata": {},
   "outputs": [
    {
     "name": "stdout",
     "output_type": "stream",
     "text": [
      "1.0\n",
      "[0.33333333 0.33333333 0.33333333 0.66666667 0.66666667 0.66666667]\n",
      "[0. 0. 0. 0. 0. 0.]\n"
     ]
    },
    {
     "ename": "Exception",
     "evalue": "Sum of base rate distribution is not 1. It should be equal to 1.",
     "output_type": "error",
     "traceback": [
      "\u001b[0;31m---------------------------------------------------------------------------\u001b[0m",
      "\u001b[0;31mException\u001b[0m                                 Traceback (most recent call last)",
      "\u001b[0;32m/tmp/ipykernel_15686/880435876.py\u001b[0m in \u001b[0;36m<module>\u001b[0;34m\u001b[0m\n\u001b[0;32m----> 1\u001b[0;31m \u001b[0mHyperopinion\u001b[0m\u001b[0;34m(\u001b[0m\u001b[0;36m3\u001b[0m\u001b[0;34m,\u001b[0m \u001b[0;34m[\u001b[0m\u001b[0;36m0\u001b[0m\u001b[0;34m,\u001b[0m \u001b[0;36m0\u001b[0m\u001b[0;34m,\u001b[0m \u001b[0;36m0\u001b[0m\u001b[0;34m]\u001b[0m\u001b[0;34m)\u001b[0m\u001b[0;34m.\u001b[0m\u001b[0mmaximize_uncertainty\u001b[0m\u001b[0;34m(\u001b[0m\u001b[0;34m)\u001b[0m\u001b[0;34m\u001b[0m\u001b[0;34m\u001b[0m\u001b[0m\n\u001b[0m",
      "\u001b[0;32m~/projects/subjective-logic-library/SubjectiveLogic/Hyperopinion.py\u001b[0m in \u001b[0;36mmaximize_uncertainty\u001b[0;34m(self)\u001b[0m\n\u001b[1;32m    159\u001b[0m         \u001b[0mprint\u001b[0m\u001b[0;34m(\u001b[0m\u001b[0mb\u001b[0m\u001b[0;34m)\u001b[0m\u001b[0;34m\u001b[0m\u001b[0;34m\u001b[0m\u001b[0m\n\u001b[1;32m    160\u001b[0m \u001b[0;34m\u001b[0m\u001b[0m\n\u001b[0;32m--> 161\u001b[0;31m         \u001b[0;32mreturn\u001b[0m \u001b[0mHyperopinion\u001b[0m\u001b[0;34m(\u001b[0m\u001b[0mself\u001b[0m\u001b[0;34m.\u001b[0m\u001b[0mk\u001b[0m\u001b[0;34m,\u001b[0m \u001b[0mb\u001b[0m\u001b[0;34m,\u001b[0m \u001b[0ma\u001b[0m\u001b[0;34m)\u001b[0m\u001b[0;34m\u001b[0m\u001b[0;34m\u001b[0m\u001b[0m\n\u001b[0m",
      "\u001b[0;32m~/projects/subjective-logic-library/SubjectiveLogic/Hyperopinion.py\u001b[0m in \u001b[0;36m__init__\u001b[0;34m(self, k, b, a)\u001b[0m\n\u001b[1;32m    107\u001b[0m             \u001b[0ma\u001b[0m \u001b[0;34m=\u001b[0m \u001b[0mnp\u001b[0m\u001b[0;34m.\u001b[0m\u001b[0marray\u001b[0m\u001b[0;34m(\u001b[0m\u001b[0ma\u001b[0m\u001b[0;34m)\u001b[0m\u001b[0;34m\u001b[0m\u001b[0;34m\u001b[0m\u001b[0m\n\u001b[1;32m    108\u001b[0m         \u001b[0;32mif\u001b[0m \u001b[0mnp\u001b[0m\u001b[0;34m.\u001b[0m\u001b[0msum\u001b[0m\u001b[0;34m(\u001b[0m\u001b[0ma\u001b[0m\u001b[0;34m)\u001b[0m \u001b[0;34m!=\u001b[0m \u001b[0;36m1\u001b[0m\u001b[0;34m:\u001b[0m\u001b[0;34m\u001b[0m\u001b[0;34m\u001b[0m\u001b[0m\n\u001b[0;32m--> 109\u001b[0;31m             \u001b[0;32mraise\u001b[0m \u001b[0mException\u001b[0m\u001b[0;34m(\u001b[0m\u001b[0;34m'Sum of base rate distribution is not 1. It should be equal to 1.'\u001b[0m\u001b[0;34m)\u001b[0m\u001b[0;34m\u001b[0m\u001b[0;34m\u001b[0m\u001b[0m\n\u001b[0m\u001b[1;32m    110\u001b[0m         \u001b[0mself\u001b[0m\u001b[0;34m.\u001b[0m\u001b[0m__calculate_a\u001b[0m\u001b[0;34m(\u001b[0m\u001b[0ma\u001b[0m\u001b[0;34m)\u001b[0m\u001b[0;34m\u001b[0m\u001b[0;34m\u001b[0m\u001b[0m\n\u001b[1;32m    111\u001b[0m \u001b[0;34m\u001b[0m\u001b[0m\n",
      "\u001b[0;31mException\u001b[0m: Sum of base rate distribution is not 1. It should be equal to 1."
     ]
    }
   ],
   "source": [
    "Hyperopinion(3, [0, 0, 0]).maximize_uncertainty()"
   ]
  },
  {
   "cell_type": "code",
   "execution_count": null,
   "id": "1d5481d0-472f-4d6b-9d64-77922245a60c",
   "metadata": {},
   "outputs": [],
   "source": []
  }
 ],
 "metadata": {
  "kernelspec": {
   "display_name": "Python 3 (ipykernel)",
   "language": "python",
   "name": "python3"
  },
  "language_info": {
   "codemirror_mode": {
    "name": "ipython",
    "version": 3
   },
   "file_extension": ".py",
   "mimetype": "text/x-python",
   "name": "python",
   "nbconvert_exporter": "python",
   "pygments_lexer": "ipython3",
   "version": "3.8.10"
  },
  "toc-autonumbering": true
 },
 "nbformat": 4,
 "nbformat_minor": 5
}
