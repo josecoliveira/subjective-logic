{
 "cells": [
  {
   "cell_type": "code",
   "execution_count": 1,
   "id": "2bcd678d-4b65-4496-8f31-f395958ba0f8",
   "metadata": {},
   "outputs": [],
   "source": [
    "%load_ext autoreload\n",
    "%autoreload 2"
   ]
  },
  {
   "cell_type": "code",
   "execution_count": 2,
   "id": "c8b07538-39d1-40f3-8b5a-b06ac12a0076",
   "metadata": {},
   "outputs": [],
   "source": [
    "from SubjectiveLogic import Hyperopinion, HyperopinionInterface\n",
    "from SubjectiveLogic import Hyperopinion as W\n",
    "from SubjectiveLogic.BeliefFusion import cumulative_fusion, averaging_fusion, weighted_fusion\n",
    "from SubjectiveLogic.Trust import trust_discount_2e\n",
    "import numpy as np\n",
    "import matplotlib.pyplot as plt\n",
    "from typing import List, Callable"
   ]
  },
  {
   "cell_type": "markdown",
   "id": "1edaf419-cbe9-4591-a31f-7ce562bfe32e",
   "metadata": {},
   "source": [
    "# Opinions"
   ]
  },
  {
   "cell_type": "markdown",
   "id": "94b7d68b-b377-4d7f-8ffc-f5998edb0972",
   "metadata": {},
   "source": [
    "A *belief state* in the polarization paper is $\\mathrm{Bel}_p : A \\rightarrow [0, 1]$. Would be trivial if we had only 1 degree of freedom for subjective logic's binomial opinions, but we have 2."
   ]
  },
  {
   "cell_type": "markdown",
   "id": "b7d669cc-c695-4235-a96b-894851c17c82",
   "metadata": {},
   "source": [
    "**Definition:** *(Multinomial opinion)* Let $\\mathbb{X}$ be a domain larger than binary, i.e. so that $k = |X|$. Let $X$ be a random variable in $\\mathbb{X}$. A multinomial opinion over the random variable $X$ is the ordered triplet $\\omega_X = (\\mathbf{b}_X, u_X , \\mathbf{a}_X)$ where\n",
    "\n",
    "- $\\mathbf{b}_X$ is a belief mass distribution over $X$,\n",
    "- $u_X$ is the uncertainty mass which represents the vacuity of evidence,\n",
    "- $\\mathbf{a}_X$ is a base rate distribution over $\\mathbb{X}$,\n",
    "\n",
    "and $\\sum_{x \\in \\mathbb{X}} \\mathbf{b}_X(x) + u_X = 1$.\n",
    "\n",
    "<!-- **Definition:** *(Binomial opinion)* Let $\\mathbb{X} = \\{x, \\overline{x}\\}$ be a binary domain with binomial random variable $X \\in \\mathbb{X}$. A binomial opinion over the random variable $X$ is the ordered triplet $\\omega_X = (\\mathbf{b}_X, u_X , \\mathbf{a}_X)$ where\n",
    "- $\\mathbf{b}_X$ is a belief mass distribution over $X$,\n",
    "- $u_X$ is the uncertainty mass which represents the vacuity of evidence,\n",
    "- $\\mathbf{a}_X$ is a base rate distribution over $\\mathbb{X}$, -->"
   ]
  },
  {
   "cell_type": "markdown",
   "id": "bf18e539-99ee-41a4-9cdf-9e8e6d8ecb5b",
   "metadata": {},
   "source": [
    "The projected probability distribution of multinomial opinions is defined by:\n",
    "$$\\mathbf{P}_X(x) = \\mathbf{b}_X(x) + \\mathbf{a}_X(x) u_X,\\ \\forall x \\in \\mathbb{X}\\text{.}$$"
   ]
  },
  {
   "cell_type": "markdown",
   "id": "e166bce4-a5b4-41f4-a405-a74357ad6241",
   "metadata": {},
   "source": [
    "To reproduce the beliefs from the polarization paper, we need to use binomial opinions. So when we say *opinion*, we are talking about a *binomial opinion*, a *multinomial opinion* with $k = 2$."
   ]
  },
  {
   "cell_type": "code",
   "execution_count": 8,
   "id": "f737ebf4-1e4c-4398-988e-4e993a34f57d",
   "metadata": {},
   "outputs": [],
   "source": [
    "# Hyperopinion(2, [b1, b2])"
   ]
  },
  {
   "cell_type": "markdown",
   "id": "0032fa46-ed8a-4a84-bcd8-ca0d7f0e02d5",
   "metadata": {},
   "source": [
    "Here I describe types of opinions that we will use."
   ]
  },
  {
   "cell_type": "markdown",
   "id": "60188526-e31d-438b-ad95-a922e165300c",
   "metadata": {},
   "source": [
    "## Dogmatic opinion"
   ]
  },
  {
   "cell_type": "markdown",
   "id": "54c366b8-bdaf-467f-bd8b-453101130461",
   "metadata": {},
   "source": [
    "A *dogmatic opinion* is a totally certain opinion, i.e. $u_x = 0$. A dogmatic opinion corresponds to the probability of $x$ in probabilistic logic.\n",
    "\n",
    "If $\\mathrm{Bel}^A_X = B$, then $\\omega^A_X = ((B, 1 - B), 0, \\mathbf{a}_X)$."
   ]
  },
  {
   "cell_type": "markdown",
   "id": "7a43aaf5-54aa-450c-bbd9-ec2e8acb9e50",
   "metadata": {},
   "source": [
    "**Example:** $\\mathrm{Bel}^A_X = 0.3$.\n",
    "\n",
    "$\\omega^A_X = ((0.3, 0.7), 0, \\mathbf{a}_X)$. Agent $A$ agrees by $30\\%$ and disagrees by $70\\%$."
   ]
  },
  {
   "cell_type": "code",
   "execution_count": 20,
   "id": "ed9b4795-250c-4cb5-97ee-d82136cac008",
   "metadata": {},
   "outputs": [
    {
     "data": {
      "text/plain": [
       "Hyperopinion(2, [0.3 0.7], [0.5 0.5])"
      ]
     },
     "execution_count": 20,
     "metadata": {},
     "output_type": "execute_result"
    }
   ],
   "source": [
    "Hyperopinion(2, [0.3, 0.7])"
   ]
  },
  {
   "cell_type": "markdown",
   "id": "52387e64-e55f-4ad5-8c7d-99b46cfd8266",
   "metadata": {},
   "source": [
    "## Fixed disbelief opinion"
   ]
  },
  {
   "cell_type": "markdown",
   "id": "219a65aa-67f8-4add-bb6f-d6d59d93a382",
   "metadata": {},
   "source": [
    "If $\\mathrm{Bel}^A_X = B$, then $\\omega^A_X = ((B, 0), 1 - B, \\mathbf{a}_X)$."
   ]
  },
  {
   "cell_type": "markdown",
   "id": "63096348-a9c7-42f7-8d1e-78f2d45c6be1",
   "metadata": {},
   "source": [
    "**Example:** $\\mathrm{Bel}^A_X = 0.3$.\n",
    "\n",
    "$\\omega^A_X = ((0.3, 0), 0.7, \\mathbf{a}_X)$. Agent $A$ agrees by $30\\%$ and is uncertain by $70\\%$."
   ]
  },
  {
   "cell_type": "code",
   "execution_count": 21,
   "id": "0e0484ae-d0a7-4db4-ac7b-cae987ab48b0",
   "metadata": {},
   "outputs": [
    {
     "data": {
      "text/plain": [
       "Hyperopinion(2, [0.3 0. ], [0.5 0.5])"
      ]
     },
     "execution_count": 21,
     "metadata": {},
     "output_type": "execute_result"
    }
   ],
   "source": [
    "Hyperopinion(2, [0.3, 0])"
   ]
  },
  {
   "cell_type": "markdown",
   "id": "1efad154-aadc-476e-86e6-238ebdf2816d",
   "metadata": {},
   "source": [
    "## Non-dogmatic fixed uncertainty"
   ]
  },
  {
   "cell_type": "markdown",
   "id": "27f27d9d-445d-4c05-80d4-9f32a737d167",
   "metadata": {},
   "source": [
    "If $\\mathrm{Bel}^A_X = B$, then $\\omega^A_X = ((B(1 - u_X), (1 - B)(1 - u_X)), u_X, \\mathbf{a}_X)$, for some $0 < u_X < 1$. This is useful for simulations with belief fusion when comparing with dogmatic opinion."
   ]
  },
  {
   "cell_type": "markdown",
   "id": "dcfb9b71-3a9a-44b8-9c69-5806b380a1a1",
   "metadata": {},
   "source": [
    "**Example:** $\\mathrm{Bel}^A_X = 0.5$. $u_X = 0.1$\n",
    "\n",
    "$\\omega^A_X = ((0.45, 0.45), 0.1, \\mathbf{a}_X)$. Agent $A$ agrees by $45\\%$, disagrees by $45\\%$, and is uncertain by $10\\%$."
   ]
  },
  {
   "cell_type": "code",
   "execution_count": 22,
   "id": "f28925b9-01f1-48af-ad2e-888ffe73dd19",
   "metadata": {},
   "outputs": [
    {
     "data": {
      "text/plain": [
       "Hyperopinion(2, [0.45 0.45], [0.5 0.5])"
      ]
     },
     "execution_count": 22,
     "metadata": {},
     "output_type": "execute_result"
    }
   ],
   "source": [
    "Hyperopinion(2, [0.45, 0.45])"
   ]
  },
  {
   "cell_type": "markdown",
   "id": "804b7906-58ea-4c91-a6af-8489fb223b71",
   "metadata": {},
   "source": [
    "# Update function"
   ]
  },
  {
   "cell_type": "markdown",
   "id": "8d902d04-94c3-4508-84a0-3717ba8063dd",
   "metadata": {},
   "source": [
    "## Mapping between opinion and Dirithlet PDF"
   ]
  },
  {
   "cell_type": "markdown",
   "id": "8e05d949-4c57-4749-be7d-c7bf03f4cc5b",
   "metadata": {},
   "source": [
    "Explain what it means *amount of evidence* when talking about opinions. This is necessary for understanding belief fusion."
   ]
  },
  {
   "cell_type": "markdown",
   "id": "081fd0c8-b9f2-4076-a75d-93576cc8e52d",
   "metadata": {},
   "source": [
    "## Trust discount"
   ]
  },
  {
   "cell_type": "markdown",
   "id": "a3b09abc-8c60-4610-a46c-f43c8790ef91",
   "metadata": {},
   "source": [
    "Define trust discount operator."
   ]
  },
  {
   "cell_type": "markdown",
   "id": "0119c382-fe68-43e6-8ce8-8e4573124b49",
   "metadata": {},
   "source": [
    "## Belief fusion"
   ]
  },
  {
   "cell_type": "markdown",
   "id": "9fe4501c-9ce8-4e6a-9274-388fc9e27727",
   "metadata": {},
   "source": [
    "Define the belief fusion operator, their properties, and what does that mean in terms of amount of evidence."
   ]
  },
  {
   "cell_type": "markdown",
   "id": "908498ef-964f-4a38-8c5f-778dadc67112",
   "metadata": {},
   "source": [
    "### Cumulative fusion"
   ]
  },
  {
   "cell_type": "markdown",
   "id": "52bc778a-1304-48e8-afbd-f3f01adfbee2",
   "metadata": {},
   "source": [
    "Sum of evidences."
   ]
  },
  {
   "cell_type": "markdown",
   "id": "3a9000d1-7ea5-4bf9-bafd-2adc16a6a9b6",
   "metadata": {},
   "source": [
    "### Averaging fusiuon"
   ]
  },
  {
   "cell_type": "markdown",
   "id": "5ee799ec-c245-4f41-ab04-ffa5a5cb8e03",
   "metadata": {},
   "source": [
    "Average of evidences."
   ]
  },
  {
   "cell_type": "markdown",
   "id": "ba3ff76f-1b5b-42b5-9be5-7fe43d16e56d",
   "metadata": {},
   "source": [
    "### Weighted fusion"
   ]
  },
  {
   "cell_type": "markdown",
   "id": "63713d78-3417-4f68-99b1-d3789cccf015",
   "metadata": {},
   "source": [
    "Average of evidences weighted by confidence."
   ]
  },
  {
   "cell_type": "markdown",
   "id": "6cc8fead-b972-4558-8bad-a60b2c35182f",
   "metadata": {},
   "source": [
    "## Update function"
   ]
  },
  {
   "cell_type": "markdown",
   "id": "a25babb6-b062-4c5f-b1f1-c46689a77798",
   "metadata": {},
   "source": [
    "Fuse A's opinion with what A learns by trusting others."
   ]
  },
  {
   "cell_type": "markdown",
   "id": "c2c5ad44-8170-4284-9550-0cbc13fd15f7",
   "metadata": {},
   "source": [
    "# Initial states"
   ]
  },
  {
   "cell_type": "markdown",
   "id": "6e8fb0e5-5be0-4fdd-89ca-d0bc6ae3273b",
   "metadata": {},
   "source": [
    "Show some initial states."
   ]
  },
  {
   "cell_type": "markdown",
   "id": "ab4f7a3a-7284-42dc-9022-73241944196d",
   "metadata": {},
   "source": [
    "## Only dogmatic opinions"
   ]
  },
  {
   "cell_type": "markdown",
   "id": "0af66364-fd83-4ab2-a910-5e88df93c01b",
   "metadata": {},
   "source": [
    "To show how dogmatic opinions doesn't change if trust is less than 1. Trust equal to 1 goes to average."
   ]
  },
  {
   "cell_type": "markdown",
   "id": "b8b0cdf6-2ae6-4344-8692-535f81b4cec7",
   "metadata": {},
   "source": [
    "## Only fixed disbelief opinions"
   ]
  },
  {
   "cell_type": "markdown",
   "id": "07a26a80-0237-4da4-bbe7-6a132d1f2fdc",
   "metadata": {},
   "source": [
    "To show how opinions converge to vacuous (u = 1) if trust is less than 1. I need to test when trust is 1."
   ]
  },
  {
   "cell_type": "markdown",
   "id": "89ff37f7-57a4-4eea-bc9e-b5fdb32c5d8d",
   "metadata": {},
   "source": [
    "## Only non-dogmatic fixed uncertainty opinions"
   ]
  },
  {
   "cell_type": "markdown",
   "id": "f28fc4e2-9aef-44c2-a3ce-46638db881ac",
   "metadata": {},
   "source": [
    "I didn't tried yet."
   ]
  },
  {
   "cell_type": "markdown",
   "id": "57e636b5-5ccb-4d29-ba29-a806a651e180",
   "metadata": {},
   "source": [
    "## Only one dogmatic opinion\n",
    "\n",
    "Useful to show how dogmatic opinions remains unchanged and influence non-dogmatic opinions."
   ]
  },
  {
   "cell_type": "markdown",
   "id": "eec7054f-33ad-40a2-bb93-23a19dfc77c6",
   "metadata": {},
   "source": [
    "# Simulations"
   ]
  },
  {
   "cell_type": "markdown",
   "id": "a6c7bc88-7945-4331-83ba-e6a526de34a6",
   "metadata": {},
   "source": [
    "Lacração, marxismo e bruxaria."
   ]
  },
  {
   "cell_type": "code",
   "execution_count": null,
   "id": "20d9f7e1-7cad-4ddb-ae30-a37ae238d3e2",
   "metadata": {},
   "outputs": [],
   "source": []
  }
 ],
 "metadata": {
  "kernelspec": {
   "display_name": "Python 3 (ipykernel)",
   "language": "python",
   "name": "python3"
  },
  "language_info": {
   "codemirror_mode": {
    "name": "ipython",
    "version": 3
   },
   "file_extension": ".py",
   "mimetype": "text/x-python",
   "name": "python",
   "nbconvert_exporter": "python",
   "pygments_lexer": "ipython3",
   "version": "3.8.10"
  },
  "toc-autonumbering": true
 },
 "nbformat": 4,
 "nbformat_minor": 5
}
