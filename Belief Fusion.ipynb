{
 "cells": [
  {
   "cell_type": "code",
   "execution_count": 1,
   "metadata": {},
   "outputs": [],
   "source": [
    "%load_ext autoreload\n",
    "%autoreload 2"
   ]
  },
  {
   "cell_type": "code",
   "execution_count": 3,
   "metadata": {},
   "outputs": [],
   "source": [
    "from SubjectiveLogic import Hyperopinion\n",
    "from SubjectiveLogic.BeliefFusion import cumulative_fusion\n",
    "import numpy as np"
   ]
  },
  {
   "cell_type": "code",
   "execution_count": 4,
   "metadata": {},
   "outputs": [
    {
     "name": "stdout",
     "output_type": "stream",
     "text": [
      "k = 2\n",
      "            \n",
      "b({0}) = 0.14\n",
      "b({1}) = 0.63\n",
      "u = 0.22999999999999998\n",
      "\n",
      "a({0}) = 0.5\n",
      "a({1}) = 0.5\n",
      "\n",
      "P({0}) = 0.255\n",
      "P({1}) = 0.745\n"
     ]
    }
   ],
   "source": [
    "A = Hyperopinion(2, [0.14, 0.63])\n",
    "print(A)"
   ]
  },
  {
   "cell_type": "code",
   "execution_count": 5,
   "metadata": {},
   "outputs": [
    {
     "name": "stdout",
     "output_type": "stream",
     "text": [
      "k = 2\n",
      "            \n",
      "b({0}) = 0.43\n",
      "b({1}) = 0.11\n",
      "u = 0.45999999999999996\n",
      "\n",
      "a({0}) = 0.5\n",
      "a({1}) = 0.5\n",
      "\n",
      "P({0}) = 0.6599999999999999\n",
      "P({1}) = 0.33999999999999997\n"
     ]
    }
   ],
   "source": [
    "B = Hyperopinion(2, [0.43, 0.11])\n",
    "print(B)"
   ]
  },
  {
   "cell_type": "code",
   "execution_count": null,
   "metadata": {},
   "outputs": [],
   "source": [
    "AcfB = BeliefFusion.cumulative_fusion(A, B)\n",
    "print(AcfB)"
   ]
  },
  {
   "cell_type": "code",
   "execution_count": null,
   "metadata": {},
   "outputs": [],
   "source": []
  }
 ],
 "metadata": {
  "kernelspec": {
   "display_name": "Python 3",
   "language": "python",
   "name": "python3"
  },
  "language_info": {
   "codemirror_mode": {
    "name": "ipython",
    "version": 3
   },
   "file_extension": ".py",
   "mimetype": "text/x-python",
   "name": "python",
   "nbconvert_exporter": "python",
   "pygments_lexer": "ipython3",
   "version": "3.8.6"
  }
 },
 "nbformat": 4,
 "nbformat_minor": 4
}
