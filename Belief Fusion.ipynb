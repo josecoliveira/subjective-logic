{
 "cells": [
  {
   "cell_type": "code",
   "execution_count": 1,
   "metadata": {},
   "outputs": [],
   "source": [
    "%load_ext autoreload\n",
    "%autoreload 2"
   ]
  },
  {
   "cell_type": "code",
   "execution_count": 2,
   "metadata": {},
   "outputs": [],
   "source": [
    "from SubjectiveLogic import Hyperopinion\n",
    "from SubjectiveLogic.BeliefFusion import cumulative_fusion\n",
    "from SubjectiveLogic.Trust import trust_discount_2e\n",
    "import numpy as np"
   ]
  },
  {
   "cell_type": "markdown",
   "metadata": {},
   "source": [
    "# Cumulative Belief Fusion\n",
    "Commutative, associative and non-idempotent\n",
    "\n",
    "## Examples\n",
    "\n",
    "### Example from Fig. 12.4 from the book. Page 228."
   ]
  },
  {
   "cell_type": "code",
   "execution_count": 3,
   "metadata": {},
   "outputs": [
    {
     "ename": "TypeError",
     "evalue": "cumulative_fusion() takes 1 positional argument but 2 were given",
     "output_type": "error",
     "traceback": [
      "\u001b[0;31m---------------------------------------------------------------------------\u001b[0m",
      "\u001b[0;31mTypeError\u001b[0m                                 Traceback (most recent call last)",
      "\u001b[0;32m/tmp/ipykernel_2691969/1295688478.py\u001b[0m in \u001b[0;36m<module>\u001b[0;34m\u001b[0m\n\u001b[1;32m      1\u001b[0m \u001b[0mAX\u001b[0m \u001b[0;34m=\u001b[0m \u001b[0mHyperopinion\u001b[0m\u001b[0;34m(\u001b[0m\u001b[0;36m2\u001b[0m\u001b[0;34m,\u001b[0m \u001b[0;34m[\u001b[0m\u001b[0;36m0\u001b[0m\u001b[0;34m,\u001b[0m \u001b[0;36m0.3\u001b[0m\u001b[0;34m]\u001b[0m\u001b[0;34m,\u001b[0m \u001b[0;34m[\u001b[0m\u001b[0;36m0.7\u001b[0m\u001b[0;34m,\u001b[0m \u001b[0;36m0.3\u001b[0m\u001b[0;34m]\u001b[0m\u001b[0;34m)\u001b[0m\u001b[0;34m\u001b[0m\u001b[0;34m\u001b[0m\u001b[0m\n\u001b[1;32m      2\u001b[0m \u001b[0mBX\u001b[0m \u001b[0;34m=\u001b[0m \u001b[0mHyperopinion\u001b[0m\u001b[0;34m(\u001b[0m\u001b[0;36m2\u001b[0m\u001b[0;34m,\u001b[0m \u001b[0;34m[\u001b[0m\u001b[0;36m0.7\u001b[0m\u001b[0;34m,\u001b[0m \u001b[0;36m0\u001b[0m\u001b[0;34m]\u001b[0m\u001b[0;34m,\u001b[0m \u001b[0;34m[\u001b[0m\u001b[0;36m0.3\u001b[0m\u001b[0;34m,\u001b[0m \u001b[0;36m0.7\u001b[0m\u001b[0;34m]\u001b[0m\u001b[0;34m)\u001b[0m\u001b[0;34m\u001b[0m\u001b[0;34m\u001b[0m\u001b[0m\n\u001b[0;32m----> 3\u001b[0;31m \u001b[0mAXcfBX\u001b[0m \u001b[0;34m=\u001b[0m \u001b[0mcumulative_fusion\u001b[0m\u001b[0;34m(\u001b[0m\u001b[0mAX\u001b[0m\u001b[0;34m,\u001b[0m \u001b[0mBX\u001b[0m\u001b[0;34m)\u001b[0m\u001b[0;34m\u001b[0m\u001b[0;34m\u001b[0m\u001b[0m\n\u001b[0m\u001b[1;32m      4\u001b[0m \u001b[0mprint\u001b[0m\u001b[0;34m(\u001b[0m\u001b[0mAXcfBX\u001b[0m\u001b[0;34m)\u001b[0m\u001b[0;34m\u001b[0m\u001b[0;34m\u001b[0m\u001b[0m\n",
      "\u001b[0;31mTypeError\u001b[0m: cumulative_fusion() takes 1 positional argument but 2 were given"
     ]
    }
   ],
   "source": [
    "AX = Hyperopinion(2, [0, 0.3], [0.7, 0.3])\n",
    "BX = Hyperopinion(2, [0.7, 0], [0.3, 0.7])\n",
    "AXcfBX = cumulative_fusion(AX, BX)\n",
    "print(AXcfBX)"
   ]
  },
  {
   "cell_type": "markdown",
   "metadata": {},
   "source": [
    "### Vacuous with Dogmatic\n",
    "\n",
    "An agent totally uncertain with an agent with no uncertainty. Uniform base rate."
   ]
  },
  {
   "cell_type": "code",
   "execution_count": 24,
   "metadata": {},
   "outputs": [
    {
     "name": "stdout",
     "output_type": "stream",
     "text": [
      "k = 2\n",
      "            \n",
      "b({0}) = 0.8\n",
      "b({1}) = 0.2\n",
      "u = 0.0\n",
      "\n",
      "a({0}) = 0.5\n",
      "a({1}) = 0.5\n",
      "\n",
      "P({0}) = 0.8\n",
      "P({1}) = 0.2\n"
     ]
    }
   ],
   "source": [
    "AX = Hyperopinion(2, [0, 0])\n",
    "BX = Hyperopinion(2, [0.8, 0.2])\n",
    "AXcfBX = cumulative_fusion(AX, BX)\n",
    "print(AXcfBX)"
   ]
  },
  {
   "cell_type": "markdown",
   "metadata": {},
   "source": [
    "### Non-idempotence"
   ]
  },
  {
   "cell_type": "code",
   "execution_count": 26,
   "metadata": {},
   "outputs": [
    {
     "name": "stdout",
     "output_type": "stream",
     "text": [
      "k = 2\n",
      "            \n",
      "b({0}) = 0.10526315789473685\n",
      "b({1}) = 0.8421052631578948\n",
      "u = 0.05263157894736836\n",
      "\n",
      "a({0}) = 0.5\n",
      "a({1}) = 0.5\n",
      "\n",
      "P({0}) = 0.13157894736842102\n",
      "P({1}) = 0.868421052631579\n"
     ]
    }
   ],
   "source": [
    "AX = Hyperopinion(2, [0.8, 0.1])\n",
    "BX = Hyperopinion(2, [0.8, 0.1])\n",
    "AXcfBX = cumulative_fusion(AX, BX)\n",
    "print(AXcfBX)"
   ]
  },
  {
   "cell_type": "markdown",
   "metadata": {},
   "source": [
    "# Trust Discounting\n",
    "\n",
    "## Examples\n",
    "\n",
    "### Example from Fig. 14.6 from the book. Page 258."
   ]
  },
  {
   "cell_type": "code",
   "execution_count": 21,
   "metadata": {},
   "outputs": [
    {
     "name": "stdout",
     "output_type": "stream",
     "text": [
      "k = 2\n",
      "            \n",
      "b({0}) = 0.855\n",
      "b({1}) = 0.0\n",
      "u = 0.14500000000000002\n",
      "\n",
      "a({0}) = 0.2\n",
      "a({1}) = 0.8\n",
      "\n",
      "P({0}) = 0.884\n",
      "P({1}) = 0.11600000000000002\n"
     ]
    }
   ],
   "source": [
    "AB = Hyperopinion(2, [0, 0], [0.9, 0.1])\n",
    "BX = Hyperopinion(2, [0.95, 0], [0.2, 0.8])\n",
    "ABX = trust_discount_2e(AB, BX)\n",
    "print(ABX)"
   ]
  },
  {
   "cell_type": "markdown",
   "metadata": {},
   "source": [
    "### A completely trusts B"
   ]
  },
  {
   "cell_type": "code",
   "execution_count": 29,
   "metadata": {},
   "outputs": [
    {
     "name": "stdout",
     "output_type": "stream",
     "text": [
      "k = 2\n",
      "            \n",
      "b({0}) = 1.0\n",
      "b({1}) = 0.0\n",
      "u = 0.0\n",
      "\n",
      "a({0}) = 0.5\n",
      "a({1}) = 0.5\n",
      "\n",
      "P({0}) = 1.0\n",
      "P({1}) = 0.0\n"
     ]
    }
   ],
   "source": [
    "AB = Hyperopinion(2, [1, 0])\n",
    "BX = Hyperopinion(2, [1, 0])\n",
    "ABX = trust_discount_2e(AB, BX)\n",
    "print(ABX)"
   ]
  },
  {
   "cell_type": "markdown",
   "metadata": {},
   "source": [
    "### A distrusts B, then A becomes uncertain"
   ]
  },
  {
   "cell_type": "code",
   "execution_count": 32,
   "metadata": {},
   "outputs": [
    {
     "name": "stdout",
     "output_type": "stream",
     "text": [
      "k = 2\n",
      "            \n",
      "b({0}) = 0.0\n",
      "b({1}) = 0.0\n",
      "u = 1.0\n",
      "\n",
      "a({0}) = 0.5\n",
      "a({1}) = 0.5\n",
      "\n",
      "P({0}) = 0.5\n",
      "P({1}) = 0.5\n"
     ]
    }
   ],
   "source": [
    "AB = Hyperopinion(2, [0, 1])\n",
    "BX = Hyperopinion(2, [0.7, 0.3])\n",
    "ABX = trust_discount_2e(AB, BX)\n",
    "print(ABX)"
   ]
  },
  {
   "cell_type": "markdown",
   "metadata": {},
   "source": [
    "# Cumulative Fusion distributes over Trust Discount?\n",
    "\n",
    "Here I created the following \"random\" opinion that will be used later"
   ]
  },
  {
   "cell_type": "markdown",
   "metadata": {},
   "source": [
    "$\\omega^A_X$: The opinion that A has about the variable X"
   ]
  },
  {
   "cell_type": "code",
   "execution_count": 37,
   "metadata": {},
   "outputs": [
    {
     "name": "stdout",
     "output_type": "stream",
     "text": [
      "k = 2\n",
      "            \n",
      "b({0}) = 0.24436731068282566\n",
      "b({1}) = 0.6086767024547078\n",
      "u = 0.14695598686246647\n",
      "\n",
      "a({0}) = 0.5\n",
      "a({1}) = 0.5\n",
      "\n",
      "P({0}) = 0.31784530411405887\n",
      "P({1}) = 0.682154695885941\n"
     ]
    }
   ],
   "source": [
    "AX = Hyperopinion.generate_random_belief(2)\n",
    "print(AX)"
   ]
  },
  {
   "cell_type": "markdown",
   "metadata": {},
   "source": [
    "$\\omega^B_X$: The opinion that B has about the variable X"
   ]
  },
  {
   "cell_type": "code",
   "execution_count": 39,
   "metadata": {},
   "outputs": [
    {
     "name": "stdout",
     "output_type": "stream",
     "text": [
      "k = 2\n",
      "            \n",
      "b({0}) = 0.4311873076912439\n",
      "b({1}) = 0.04935577424116161\n",
      "u = 0.5194569180675945\n",
      "\n",
      "a({0}) = 0.5\n",
      "a({1}) = 0.5\n",
      "\n",
      "P({0}) = 0.6909157667250412\n",
      "P({1}) = 0.3090842332749589\n"
     ]
    }
   ],
   "source": [
    "BX = Hyperopinion.generate_random_belief(2)\n",
    "print(BX)"
   ]
  },
  {
   "cell_type": "markdown",
   "metadata": {},
   "source": [
    "$\\omega^C_X$: The opinion that C has about the variable X"
   ]
  },
  {
   "cell_type": "code",
   "execution_count": 40,
   "metadata": {},
   "outputs": [
    {
     "name": "stdout",
     "output_type": "stream",
     "text": [
      "k = 2\n",
      "            \n",
      "b({0}) = 0.17388247425964737\n",
      "b({1}) = 0.4221222455100578\n",
      "u = 0.40399528023029485\n",
      "\n",
      "a({0}) = 0.5\n",
      "a({1}) = 0.5\n",
      "\n",
      "P({0}) = 0.3758801143747948\n",
      "P({1}) = 0.6241198856252053\n"
     ]
    }
   ],
   "source": [
    "CX = Hyperopinion.generate_random_belief(2)\n",
    "print(CX)"
   ]
  },
  {
   "cell_type": "markdown",
   "metadata": {},
   "source": [
    "$\\omega^A_B$: Trust opinion that A has about B"
   ]
  },
  {
   "cell_type": "code",
   "execution_count": 41,
   "metadata": {},
   "outputs": [
    {
     "name": "stdout",
     "output_type": "stream",
     "text": [
      "k = 2\n",
      "            \n",
      "b({0}) = 0.3349259206967065\n",
      "b({1}) = 0.1627320563137132\n",
      "u = 0.5023420229895803\n",
      "\n",
      "a({0}) = 0.5\n",
      "a({1}) = 0.5\n",
      "\n",
      "P({0}) = 0.5860969321914966\n",
      "P({1}) = 0.4139030678085034\n"
     ]
    }
   ],
   "source": [
    "AB = Hyperopinion.generate_random_belief(2)\n",
    "print(AB)"
   ]
  },
  {
   "cell_type": "markdown",
   "metadata": {},
   "source": [
    "$\\omega^A_C$: Trust opinion that A has about C"
   ]
  },
  {
   "cell_type": "code",
   "execution_count": 50,
   "metadata": {},
   "outputs": [
    {
     "name": "stdout",
     "output_type": "stream",
     "text": [
      "k = 2\n",
      "            \n",
      "b({0}) = 0.4861064684669796\n",
      "b({1}) = 0.3279965669244261\n",
      "u = 0.1858969646085944\n",
      "\n",
      "a({0}) = 0.5\n",
      "a({1}) = 0.5\n",
      "\n",
      "P({0}) = 0.5790549507712768\n",
      "P({1}) = 0.4209450492287233\n"
     ]
    }
   ],
   "source": [
    "AC = Hyperopinion.generate_random_belief(2)\n",
    "print(AC)$\\omega^A_B$: Trust opinion that A has about B"
   ]
  },
  {
   "cell_type": "markdown",
   "metadata": {},
   "source": [
    "$\\omega^{[A;B]}_X = \\omega^A_B \\otimes \\omega^B_X$: The opinion that A obtained by trusting B about the variable X."
   ]
  },
  {
   "cell_type": "code",
   "execution_count": 53,
   "metadata": {},
   "outputs": [
    {
     "name": "stdout",
     "output_type": "stream",
     "text": [
      "k = 2\n",
      "            \n",
      "b({0}) = 0.252717558237749\n",
      "b({1}) = 0.02892726786868091\n",
      "u = 0.7183551738935701\n",
      "\n",
      "a({0}) = 0.5\n",
      "a({1}) = 0.5\n",
      "\n",
      "P({0}) = 0.611895145184534\n",
      "P({1}) = 0.38810485481546597\n"
     ]
    }
   ],
   "source": [
    "ABX = trust_discount_2e(AB, BX)\n",
    "print(ABX)"
   ]
  },
  {
   "cell_type": "markdown",
   "metadata": {},
   "source": [
    "$\\omega^{[A;C]}_X = \\omega^A_C \\otimes \\omega^C_X$: : The opinion that A obtained by trusting C about the variable X."
   ]
  },
  {
   "cell_type": "code",
   "execution_count": 56,
   "metadata": {},
   "outputs": [
    {
     "name": "stdout",
     "output_type": "stream",
     "text": [
      "k = 2\n",
      "            \n",
      "b({0}) = 0.10068750757240791\n",
      "b({1}) = 0.24443197609328732\n",
      "u = 0.6548805163343048\n",
      "\n",
      "a({0}) = 0.5\n",
      "a({1}) = 0.5\n",
      "\n",
      "P({0}) = 0.4281277657395603\n",
      "P({1}) = 0.5718722342604396\n"
     ]
    }
   ],
   "source": [
    "ACX = trust_discount_2e(AC, CX)\n",
    "print(ACX)"
   ]
  },
  {
   "cell_type": "markdown",
   "metadata": {},
   "source": [
    "### Update function: First try\n",
    "\n",
    "$\\omega^{A \\diamond ([A; B] \\diamond [B; C])}_X = \\omega^A_X \\oplus \\omega^{[A; B]}_X \\oplus \\omega^{[A; C]}_X$"
   ]
  },
  {
   "cell_type": "code",
   "execution_count": 58,
   "metadata": {},
   "outputs": [
    {
     "name": "stdout",
     "output_type": "stream",
     "text": [
      "k = 2\n",
      "            \n",
      "b({0}) = 0.2807431078394824\n",
      "b({1}) = 0.5897873385224796\n",
      "u = 0.12946955363803803\n",
      "\n",
      "a({0}) = 0.5\n",
      "a({1}) = 0.5\n",
      "\n",
      "P({0}) = 0.34547788465850143\n",
      "P({1}) = 0.6545221153414986\n"
     ]
    }
   ],
   "source": [
    "A_ABXACX = cumulative_fusion(AX, cumulative_fusion(ABX, ACX))\n",
    "print(AABXACX)"
   ]
  },
  {
   "cell_type": "markdown",
   "metadata": {},
   "source": [
    "### Update function: Second try\n",
    "\n",
    "$\\omega^{(A \\diamond [A; B]) \\diamond (A \\diamond [A; C])}_X = \\omega^A_X \\oplus \\omega^{[A; B]}_X \\oplus \\omega^A_X \\oplus \\omega^{[A; C]}_X$\n",
    "\n",
    "Note that cumulative fusion is non-idempotent."
   ]
  },
  {
   "cell_type": "code",
   "execution_count": 60,
   "metadata": {},
   "outputs": [
    {
     "name": "stdout",
     "output_type": "stream",
     "text": [
      "k = 2\n",
      "            \n",
      "b({0}) = 0.2831982500542494\n",
      "b({1}) = 0.6428841738483214\n",
      "u = 0.0739175760974291\n",
      "\n",
      "a({0}) = 0.5\n",
      "a({1}) = 0.5\n",
      "\n",
      "P({0}) = 0.320157038102964\n",
      "P({1}) = 0.679842961897036\n"
     ]
    }
   ],
   "source": [
    "AABX_AACX = cumulative_fusion(cumulative_fusion(AX, ABX), cumulative_fusion(AX, ACX))\n",
    "print(AABX_AACX)"
   ]
  },
  {
   "cell_type": "code",
   "execution_count": null,
   "metadata": {},
   "outputs": [],
   "source": []
  },
  {
   "cell_type": "markdown",
   "metadata": {},
   "source": [
    "# Averaging Belief Fusion"
   ]
  },
  {
   "cell_type": "code",
   "execution_count": null,
   "metadata": {},
   "outputs": [],
   "source": []
  }
 ],
 "metadata": {
  "kernelspec": {
   "display_name": "Python 3 (ipykernel)",
   "language": "python",
   "name": "python3"
  },
  "language_info": {
   "codemirror_mode": {
    "name": "ipython",
    "version": 3
   },
   "file_extension": ".py",
   "mimetype": "text/x-python",
   "name": "python",
   "nbconvert_exporter": "python",
   "pygments_lexer": "ipython3",
   "version": "3.8.10"
  }
 },
 "nbformat": 4,
 "nbformat_minor": 4
}
