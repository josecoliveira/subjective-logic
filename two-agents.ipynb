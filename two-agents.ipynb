{
 "cells": [
  {
   "cell_type": "code",
   "execution_count": 1,
   "metadata": {},
   "outputs": [],
   "source": [
    "%load_ext autoreload\n",
    "%autoreload 2"
   ]
  },
  {
   "cell_type": "code",
   "execution_count": 1,
   "metadata": {},
   "outputs": [],
   "source": [
    "from SubjectiveLogic import Hyperopinion, HyperopinionInterface\n",
    "from SubjectiveLogic import Hyperopinion as W\n",
    "from SubjectiveLogic.BeliefFusion import cumulative_fusion, averaging_fusion, weighted_fusion\n",
    "from SubjectiveLogic.Trust import trust_discount_2e\n",
    "from Model import *\n",
    "import numpy as np\n",
    "import matplotlib.pyplot as plt\n",
    "from typing import List, Callable\n",
    "from matplotlib.ticker import MaxNLocator\n",
    "import pandas as pd"
   ]
  },
  {
   "cell_type": "code",
   "execution_count": 2,
   "metadata": {},
   "outputs": [],
   "source": [
    "pd.set_option('display.max_columns', None)  # or 1000\n",
    "pd.set_option('display.max_rows', None)  # or 1000\n",
    "pd.set_option('display.max_colwidth', None)  # or 199"
   ]
  },
  {
   "cell_type": "code",
   "execution_count": 3,
   "metadata": {},
   "outputs": [],
   "source": [
    "NUM_AGENTS = 10\n",
    "NUM_STEPS = 30"
   ]
  },
  {
   "cell_type": "code",
   "execution_count": 4,
   "metadata": {},
   "outputs": [],
   "source": [
    "def simulate(initial_configuration: BeliefArray, influence_graph: InfluenceGraph, akv_num_steps=NUM_STEPS, sl_model=NUM_STEPS):\n",
    "    akv_model = AKVModel(initial_configuration, influence_graph)\n",
    "    sl_model_cumulative = akv_to_sl(akv_model)\n",
    "    sl_model_average = akv_to_sl(akv_model)\n",
    "    sl_model_weighted = akv_to_sl(akv_model)\n",
    "\n",
    "    akv_model.simulate(akv_num_steps)\n",
    "    sl_model_cumulative.simulate(sl_model, cumulative_fusion)\n",
    "    sl_model_average.simulate(sl_model, averaging_fusion)\n",
    "    sl_model_weighted.simulate(sl_model, weighted_fusion)\n",
    "\n",
    "    return akv_model, sl_model_cumulative, sl_model_average, sl_model_weighted"
   ]
  },
  {
   "cell_type": "code",
   "execution_count": 5,
   "metadata": {},
   "outputs": [
    {
     "name": "stdout",
     "output_type": "stream",
     "text": [
      "\n",
      "\n",
      "[0.3, 0.7]\n",
      "[0.46, 0.46]\n"
     ]
    },
    {
     "data": {
      "image/png": "[encoded data removed]",
      "text/plain": [
       "<Figure size 1440x288 with 4 Axes>"
      ]
     },
     "metadata": {
      "needs_background": "light"
     },
     "output_type": "display_data"
    }
   ],
   "source": [
    "AKV_NUM_STEPS = 20\n",
    "SL_STEPS = 30\n",
    "NUM_AGENTS = 2\n",
    "\n",
    "akv_model = AKVModel([0.3, 0.611], [[1, 1], [1, 1]])\n",
    "sl_model_cumulative = akv_to_sl(akv_model)\n",
    "sl_model_average = akv_to_sl(akv_model)\n",
    "sl_model_weighted = akv_to_sl(akv_model)\n",
    "\n",
    "akv_model.simulate(AKV_NUM_STEPS)\n",
    "sl_model_cumulative.simulate(SL_STEPS, cumulative_fusion)\n",
    "sl_model_average.simulate(SL_STEPS, averaging_fusion)\n",
    "sl_model_weighted.simulate(SL_STEPS, weighted_fusion)\n",
    "\n",
    "fig, ax = plt.subplots(1, 4)\n",
    "fig.set(figwidth=20)\n",
    "for i in range(NUM_AGENTS):\n",
    "    print()\n",
    "    ax[0].plot(list(range(AKV_NUM_STEPS + 1)), [akv_model.states[j][i] for j in range(AKV_NUM_STEPS + 1)])\n",
    "    ax[1].plot(list(range(SL_STEPS + 1)), [sl_model_cumulative.states[j][i].P[0] for j in range(SL_STEPS + 1)])\n",
    "    ax[2].plot(list(range(SL_STEPS + 1)), [sl_model_average.states[j][i].P[0] for j in range(SL_STEPS + 1)])\n",
    "    ax[3].plot(list(range(SL_STEPS + 1)), [sl_model_weighted.states[j][i].P[0] for j in range(SL_STEPS + 1)])\n",
    "\n",
    "ax[0].set_title(\"AKV model\\nuniform\")\n",
    "ax[1].set_title(\"SL model\\nuniform\\nCumulative fusion\")\n",
    "ax[2].set_title(\"SL model\\nuniform\\nAveraging fusion\")\n",
    "ax[3].set_title(\"SL model\\nuniform\\nWeighted fusion\")\n",
    "for i in range(4):\n",
    "    ax[i].set_ylim([0, 1])\n",
    "    ax[i].set_xlim([0, AKV_NUM_STEPS if i == 0 else SL_STEPS])\n",
    "\n",
    "# print(sl_model_cumulative.belief_array())\n",
    "print([round(i, 2) for i in sl_model_cumulative.states[-1][1].P])\n",
    "print([round(i, 2) for i in akv_model.states[-1]])\n",
    "\n",
    "# Are we interpreting wrongly?\n",
    "# Why is evidence being removed?\n",
    "# Operational significance"
   ]
  },
  {
   "cell_type": "code",
   "execution_count": 8,
   "metadata": {},
   "outputs": [
    {
     "data": {
      "text/plain": [
       "[Hyperopinion(2, [0.999999 0.      ], [0.5 0.5]),\n",
       " Hyperopinion(2, [0.999999 0.      ], [0.5 0.5])]"
      ]
     },
     "execution_count": 8,
     "metadata": {},
     "output_type": "execute_result"
    }
   ],
   "source": [
    "sl_model_cumulative.states[-1]"
   ]
  },
  {
   "cell_type": "code",
   "execution_count": 8,
   "metadata": {},
   "outputs": [],
   "source": [
    "AKV_NUM_STEPS = 20\n",
    "SL_STEPS = 100\n",
    "NUM_AGENTS = 2\n",
    "\n",
    "data = []\n",
    "\n",
    "for b1 in np.arange(0.1, 1, 0.1):\n",
    "    for b2 in np.arange(0.1, 1, 0.1):\n",
    "        akv_model = AKVModel([b1, b2], [[1, 1], [1, 1]])\n",
    "        sl_model_cumulative = akv_to_sl(akv_model)\n",
    "        akv_model.simulate(AKV_NUM_STEPS)\n",
    "        sl_model_cumulative.simulate(SL_STEPS, cumulative_fusion)\n",
    "        data.append([b1, b2, sl_model_cumulative.states[-1][1].P[0], akv_model.states[-1][0]])\n",
    "\n",
    "df = pd.DataFrame(data, columns=[\"P(A[0], X)\", \"P(B[0], X)\", \"P(B[inf], X)\", \"AKV.Bel(inf, A)\"])\n",
    "df['between A and B'] = np.where((df[\"P(A[0], X)\"] < df[\"P(B[inf], X)\"]) & (df[\"P(B[inf], X)\"] < df[\"P(B[0], X)\"]), \"Yes\", \"No\")\n",
    "df['test'] = 1 - df[\"P(B[0], X)\"]\n"
   ]
  },
  {
   "cell_type": "code",
   "execution_count": 9,
   "metadata": {},
   "outputs": [
    {
     "data": {
      "text/html": [
       "<div>\n",
       "<style scoped>\n",
       "    .dataframe tbody tr th:only-of-type {\n",
       "        vertical-align: middle;\n",
       "    }\n",
       "\n",
       "    .dataframe tbody tr th {\n",
       "        vertical-align: top;\n",
       "    }\n",
       "\n",
       "    .dataframe thead th {\n",
       "        text-align: right;\n",
       "    }\n",
       "</style>\n",
       "<table border=\"1\" class=\"dataframe\">\n",
       "  <thead>\n",
       "    <tr style=\"text-align: right;\">\n",
       "      <th></th>\n",
       "      <th>P(A[0], X)</th>\n",
       "      <th>P(B[0], X)</th>\n",
       "      <th>P(B[inf], X)</th>\n",
       "      <th>AKV.Bel(inf, A)</th>\n",
       "      <th>between A and B</th>\n",
       "      <th>test</th>\n",
       "    </tr>\n",
       "  </thead>\n",
       "  <tbody>\n",
       "    <tr>\n",
       "      <th>5</th>\n",
       "      <td>0.1</td>\n",
       "      <td>0.6</td>\n",
       "      <td>0.059</td>\n",
       "      <td>0.35</td>\n",
       "      <td>No</td>\n",
       "      <td>0.4</td>\n",
       "    </tr>\n",
       "    <tr>\n",
       "      <th>6</th>\n",
       "      <td>0.1</td>\n",
       "      <td>0.7</td>\n",
       "      <td>0.143</td>\n",
       "      <td>0.40</td>\n",
       "      <td>Yes</td>\n",
       "      <td>0.3</td>\n",
       "    </tr>\n",
       "    <tr>\n",
       "      <th>7</th>\n",
       "      <td>0.1</td>\n",
       "      <td>0.8</td>\n",
       "      <td>0.273</td>\n",
       "      <td>0.45</td>\n",
       "      <td>Yes</td>\n",
       "      <td>0.2</td>\n",
       "    </tr>\n",
       "    <tr>\n",
       "      <th>14</th>\n",
       "      <td>0.2</td>\n",
       "      <td>0.6</td>\n",
       "      <td>0.143</td>\n",
       "      <td>0.40</td>\n",
       "      <td>No</td>\n",
       "      <td>0.4</td>\n",
       "    </tr>\n",
       "    <tr>\n",
       "      <th>15</th>\n",
       "      <td>0.2</td>\n",
       "      <td>0.7</td>\n",
       "      <td>0.308</td>\n",
       "      <td>0.45</td>\n",
       "      <td>Yes</td>\n",
       "      <td>0.3</td>\n",
       "    </tr>\n",
       "    <tr>\n",
       "      <th>17</th>\n",
       "      <td>0.2</td>\n",
       "      <td>0.9</td>\n",
       "      <td>0.727</td>\n",
       "      <td>0.55</td>\n",
       "      <td>Yes</td>\n",
       "      <td>0.1</td>\n",
       "    </tr>\n",
       "    <tr>\n",
       "      <th>23</th>\n",
       "      <td>0.3</td>\n",
       "      <td>0.6</td>\n",
       "      <td>0.273</td>\n",
       "      <td>0.45</td>\n",
       "      <td>No</td>\n",
       "      <td>0.4</td>\n",
       "    </tr>\n",
       "    <tr>\n",
       "      <th>25</th>\n",
       "      <td>0.3</td>\n",
       "      <td>0.8</td>\n",
       "      <td>0.692</td>\n",
       "      <td>0.55</td>\n",
       "      <td>Yes</td>\n",
       "      <td>0.2</td>\n",
       "    </tr>\n",
       "    <tr>\n",
       "      <th>26</th>\n",
       "      <td>0.3</td>\n",
       "      <td>0.9</td>\n",
       "      <td>0.857</td>\n",
       "      <td>0.60</td>\n",
       "      <td>Yes</td>\n",
       "      <td>0.1</td>\n",
       "    </tr>\n",
       "    <tr>\n",
       "      <th>33</th>\n",
       "      <td>0.4</td>\n",
       "      <td>0.7</td>\n",
       "      <td>0.727</td>\n",
       "      <td>0.55</td>\n",
       "      <td>No</td>\n",
       "      <td>0.3</td>\n",
       "    </tr>\n",
       "    <tr>\n",
       "      <th>34</th>\n",
       "      <td>0.4</td>\n",
       "      <td>0.8</td>\n",
       "      <td>0.857</td>\n",
       "      <td>0.60</td>\n",
       "      <td>No</td>\n",
       "      <td>0.2</td>\n",
       "    </tr>\n",
       "    <tr>\n",
       "      <th>35</th>\n",
       "      <td>0.4</td>\n",
       "      <td>0.9</td>\n",
       "      <td>0.941</td>\n",
       "      <td>0.65</td>\n",
       "      <td>No</td>\n",
       "      <td>0.1</td>\n",
       "    </tr>\n",
       "  </tbody>\n",
       "</table>\n",
       "</div>"
      ],
      "text/plain": [
       "    P(A[0], X)  P(B[0], X)  P(B[inf], X)  AKV.Bel(inf, A) between A and B  \\\n",
       "5          0.1         0.6         0.059             0.35              No   \n",
       "6          0.1         0.7         0.143             0.40             Yes   \n",
       "7          0.1         0.8         0.273             0.45             Yes   \n",
       "14         0.2         0.6         0.143             0.40              No   \n",
       "15         0.2         0.7         0.308             0.45             Yes   \n",
       "17         0.2         0.9         0.727             0.55             Yes   \n",
       "23         0.3         0.6         0.273             0.45              No   \n",
       "25         0.3         0.8         0.692             0.55             Yes   \n",
       "26         0.3         0.9         0.857             0.60             Yes   \n",
       "33         0.4         0.7         0.727             0.55              No   \n",
       "34         0.4         0.8         0.857             0.60              No   \n",
       "35         0.4         0.9         0.941             0.65              No   \n",
       "\n",
       "    test  \n",
       "5    0.4  \n",
       "6    0.3  \n",
       "7    0.2  \n",
       "14   0.4  \n",
       "15   0.3  \n",
       "17   0.1  \n",
       "23   0.4  \n",
       "25   0.2  \n",
       "26   0.1  \n",
       "33   0.3  \n",
       "34   0.2  \n",
       "35   0.1  "
      ]
     },
     "execution_count": 9,
     "metadata": {},
     "output_type": "execute_result"
    }
   ],
   "source": [
    "# df.round(3)[(df[\"P(A[0], X)\"] < 0.5) & (df[\"P(B[0], X)\"] > 0.5) & (df[\"P(A[0], X)\"] != (1 - df[\"P(B[0], X)\"]))]\n",
    "df[(df[\"P(A[0], X)\"] < 0.5) & (df[\"P(B[0], X)\"] > 0.5) & ~(np.isclose(df[\"P(A[0], X)\"], 1 - df[\"P(B[0], X)\"]))].round(3)"
   ]
  },
  {
   "cell_type": "code",
   "execution_count": 10,
   "metadata": {},
   "outputs": [
    {
     "data": {
      "text/plain": [
       "False"
      ]
     },
     "execution_count": 10,
     "metadata": {},
     "output_type": "execute_result"
    }
   ],
   "source": [
    "df[\"P(A[0], X)\"][0] == 1 - df[\"P(B[0], X)\"][8]"
   ]
  },
  {
   "cell_type": "code",
   "execution_count": 11,
   "metadata": {},
   "outputs": [
    {
     "data": {
      "text/plain": [
       "0.1"
      ]
     },
     "execution_count": 11,
     "metadata": {},
     "output_type": "execute_result"
    }
   ],
   "source": [
    "df[\"P(A[0], X)\"][0]"
   ]
  },
  {
   "cell_type": "code",
   "execution_count": 12,
   "metadata": {},
   "outputs": [
    {
     "data": {
      "text/plain": [
       "0.09999999999999998"
      ]
     },
     "execution_count": 12,
     "metadata": {},
     "output_type": "execute_result"
    }
   ],
   "source": [
    "1 - df[\"P(B[0], X)\"][8]"
   ]
  },
  {
   "cell_type": "code",
   "execution_count": 13,
   "metadata": {},
   "outputs": [
    {
     "data": {
      "text/plain": [
       "0     False\n",
       "1     False\n",
       "2     False\n",
       "3     False\n",
       "4     False\n",
       "5     False\n",
       "6     False\n",
       "7     False\n",
       "8     False\n",
       "9     False\n",
       "10    False\n",
       "11    False\n",
       "12    False\n",
       "13    False\n",
       "14    False\n",
       "15    False\n",
       "16    False\n",
       "17    False\n",
       "18    False\n",
       "19    False\n",
       "20    False\n",
       "21    False\n",
       "22    False\n",
       "23    False\n",
       "24    False\n",
       "25    False\n",
       "26    False\n",
       "27    False\n",
       "28    False\n",
       "29    False\n",
       "30    False\n",
       "31    False\n",
       "32     True\n",
       "33    False\n",
       "34    False\n",
       "35    False\n",
       "36    False\n",
       "37    False\n",
       "38    False\n",
       "39    False\n",
       "40     True\n",
       "41    False\n",
       "42    False\n",
       "43    False\n",
       "44    False\n",
       "45    False\n",
       "46    False\n",
       "47    False\n",
       "48     True\n",
       "49    False\n",
       "50    False\n",
       "51    False\n",
       "52    False\n",
       "53    False\n",
       "54    False\n",
       "55    False\n",
       "56    False\n",
       "57    False\n",
       "58    False\n",
       "59    False\n",
       "60    False\n",
       "61    False\n",
       "62    False\n",
       "63    False\n",
       "64     True\n",
       "65    False\n",
       "66    False\n",
       "67    False\n",
       "68    False\n",
       "69    False\n",
       "70    False\n",
       "71    False\n",
       "72     True\n",
       "73    False\n",
       "74    False\n",
       "75    False\n",
       "76    False\n",
       "77    False\n",
       "78    False\n",
       "79    False\n",
       "80    False\n",
       "dtype: bool"
      ]
     },
     "execution_count": 13,
     "metadata": {},
     "output_type": "execute_result"
    }
   ],
   "source": [
    "(df[\"P(A[0], X)\"]) == 1- (df[\"P(B[0], X)\"])"
   ]
  },
  {
   "cell_type": "code",
   "execution_count": 14,
   "metadata": {},
   "outputs": [
    {
     "data": {
      "text/plain": [
       "[Hyperopinion(2, [0.  0.4], [0.5 0.5]),\n",
       " Hyperopinion(2, [0.2222 0.    ], [0.5 0.5])]"
      ]
     },
     "execution_count": 14,
     "metadata": {},
     "output_type": "execute_result"
    }
   ],
   "source": [
    "sl_model_weighted.states[0]\n"
   ]
  },
  {
   "cell_type": "code",
   "execution_count": null,
   "metadata": {},
   "outputs": [],
   "source": []
  },
  {
   "cell_type": "code",
   "execution_count": 15,
   "metadata": {},
   "outputs": [
    {
     "name": "stdout",
     "output_type": "stream",
     "text": [
      "\n",
      "\n"
     ]
    },
    {
     "data": {
      "image/png": "[encoded data removed]",
      "text/plain": [
       "<Figure size 1080x288 with 3 Axes>"
      ]
     },
     "metadata": {
      "needs_background": "light"
     },
     "output_type": "display_data"
    }
   ],
   "source": [
    "AKV_NUM_STEPS = 10\n",
    "SL_STEPS = 50\n",
    "NUM_AGENTS = 2\n",
    "\n",
    "akv_model = AKVModel([0.1, 0.4], [[1, 0.5], [0.5, 1]])\n",
    "sl_model_cumulative = akv_to_sl(akv_model)\n",
    "sl_model_average = akv_to_sl(akv_model)\n",
    "sl_model_weighted = akv_to_sl(akv_model)\n",
    "\n",
    "akv_model.simulate(AKV_NUM_STEPS)\n",
    "sl_model_cumulative.simulate(SL_STEPS, cumulative_fusion)\n",
    "sl_model_average.simulate(SL_STEPS, averaging_fusion)\n",
    "sl_model_weighted.simulate(SL_STEPS, weighted_fusion)\n",
    "\n",
    "fig, ax = plt.subplots(1, 3)\n",
    "fig.set(figwidth=15)\n",
    "for i in range(NUM_AGENTS):\n",
    "    print()\n",
    "    ax[0].plot(list(range(SL_STEPS + 1)), [sl_model_cumulative.states[j][i].P[0] for j in range(SL_STEPS + 1)])\n",
    "    ax[1].plot(list(range(SL_STEPS + 1)), [sl_model_average.states[j][i].P[0] for j in range(SL_STEPS + 1)])\n",
    "    ax[2].plot(list(range(SL_STEPS + 1)), [sl_model_weighted.states[j][i].P[0] for j in range(SL_STEPS + 1)])\n",
    "\n",
    "ax[0].set_title(r\"Cumulative fusion\")\n",
    "ax[1].set_title(r\"Averaging fusion\")\n",
    "ax[2].set_title(r\"Weighted fusion\")\n",
    "for i in range(3):\n",
    "    ax[i].set_ylim([0, 1])\n",
    "    ax[i].set_xlim([0, SL_STEPS])\n",
    "    ax[i].xaxis.set_major_locator(MaxNLocator(integer=True))"
   ]
  },
  {
   "cell_type": "code",
   "execution_count": 16,
   "metadata": {},
   "outputs": [
    {
     "data": {
      "text/plain": [
       "[[None, Hyperopinion(2, [0.5 0.5], [0.5 0.5])],\n",
       " [Hyperopinion(2, [0.5 0.5], [0.5 0.5]), None]]"
      ]
     },
     "execution_count": 16,
     "metadata": {},
     "output_type": "execute_result"
    }
   ],
   "source": [
    "sl_model_cumulative.trust_graph"
   ]
  },
  {
   "cell_type": "code",
   "execution_count": 17,
   "metadata": {},
   "outputs": [
    {
     "data": {
      "text/plain": [
       "[[Hyperopinion(2, [0.  0.8], [0.5 0.5]),\n",
       "  Hyperopinion(2, [0.  0.2], [0.5 0.5])],\n",
       " [Hyperopinion(2, [0.       0.781081], [0.5 0.5]),\n",
       "  Hyperopinion(2, [0.       0.345455], [0.5 0.5])],\n",
       " [Hyperopinion(2, [0.       0.747449], [0.5 0.5]),\n",
       "  Hyperopinion(2, [0.       0.370178], [0.5 0.5])],\n",
       " [Hyperopinion(2, [0.       0.707368], [0.5 0.5]),\n",
       "  Hyperopinion(2, [0.       0.371965], [0.5 0.5])],\n",
       " [Hyperopinion(2, [0.       0.662343], [0.5 0.5]),\n",
       "  Hyperopinion(2, [0.       0.363186], [0.5 0.5])],\n",
       " [Hyperopinion(2, [0.       0.613489], [0.5 0.5]),\n",
       "  Hyperopinion(2, [0.       0.348308], [0.5 0.5])],\n",
       " [Hyperopinion(2, [0.       0.561965], [0.5 0.5]),\n",
       "  Hyperopinion(2, [0.       0.329483], [0.5 0.5])],\n",
       " [Hyperopinion(2, [0.       0.509034], [0.5 0.5]),\n",
       "  Hyperopinion(2, [0.       0.307998], [0.5 0.5])],\n",
       " [Hyperopinion(2, [0.      0.45601], [0.5 0.5]),\n",
       "  Hyperopinion(2, [0.       0.284782], [0.5 0.5])],\n",
       " [Hyperopinion(2, [0.       0.404162], [0.5 0.5]),\n",
       "  Hyperopinion(2, [0.       0.260603], [0.5 0.5])],\n",
       " [Hyperopinion(2, [0.       0.354616], [0.5 0.5]),\n",
       "  Hyperopinion(2, [0.       0.236134], [0.5 0.5])],\n",
       " [Hyperopinion(2, [0.       0.308274], [0.5 0.5]),\n",
       "  Hyperopinion(2, [0.       0.211969], [0.5 0.5])],\n",
       " [Hyperopinion(2, [0.      0.26577], [0.5 0.5]),\n",
       "  Hyperopinion(2, [0.       0.188613], [0.5 0.5])],\n",
       " [Hyperopinion(2, [0.       0.227465], [0.5 0.5]),\n",
       "  Hyperopinion(2, [0.       0.166471], [0.5 0.5])],\n",
       " [Hyperopinion(2, [0.       0.193473], [0.5 0.5]),\n",
       "  Hyperopinion(2, [0.      0.14584], [0.5 0.5])],\n",
       " [Hyperopinion(2, [0.       0.163705], [0.5 0.5]),\n",
       "  Hyperopinion(2, [0.       0.126912], [0.5 0.5])],\n",
       " [Hyperopinion(2, [0.       0.137928], [0.5 0.5]),\n",
       "  Hyperopinion(2, [0.       0.109782], [0.5 0.5])],\n",
       " [Hyperopinion(2, [0.       0.115813], [0.5 0.5]),\n",
       "  Hyperopinion(2, [0.       0.094465], [0.5 0.5])],\n",
       " [Hyperopinion(2, [0.       0.096983], [0.5 0.5]),\n",
       "  Hyperopinion(2, [0.       0.080911], [0.5 0.5])],\n",
       " [Hyperopinion(2, [0.       0.081048], [0.5 0.5]),\n",
       "  Hyperopinion(2, [0.       0.069024], [0.5 0.5])],\n",
       " [Hyperopinion(2, [0.       0.067627], [0.5 0.5]),\n",
       "  Hyperopinion(2, [0.       0.058681], [0.5 0.5])],\n",
       " [Hyperopinion(2, [0.       0.056365], [0.5 0.5]),\n",
       "  Hyperopinion(2, [0.      0.04974], [0.5 0.5])],\n",
       " [Hyperopinion(2, [0.       0.046941], [0.5 0.5]),\n",
       "  Hyperopinion(2, [0.       0.042055], [0.5 0.5])],\n",
       " [Hyperopinion(2, [0.       0.039072], [0.5 0.5]),\n",
       "  Hyperopinion(2, [0.      0.03548], [0.5 0.5])],\n",
       " [Hyperopinion(2, [0.       0.032511], [0.5 0.5]),\n",
       "  Hyperopinion(2, [0.       0.029878], [0.5 0.5])],\n",
       " [Hyperopinion(2, [0.       0.027047], [0.5 0.5]),\n",
       "  Hyperopinion(2, [0.       0.025121], [0.5 0.5])],\n",
       " [Hyperopinion(2, [0.       0.022499], [0.5 0.5]),\n",
       "  Hyperopinion(2, [0.       0.021094], [0.5 0.5])],\n",
       " [Hyperopinion(2, [0.       0.018716], [0.5 0.5]),\n",
       "  Hyperopinion(2, [0.       0.017692], [0.5 0.5])],\n",
       " [Hyperopinion(2, [0.      0.01557], [0.5 0.5]),\n",
       "  Hyperopinion(2, [0.       0.014825], [0.5 0.5])],\n",
       " [Hyperopinion(2, [0.       0.012954], [0.5 0.5]),\n",
       "  Hyperopinion(2, [0.       0.012412], [0.5 0.5])],\n",
       " [Hyperopinion(2, [0.       0.010778], [0.5 0.5]),\n",
       "  Hyperopinion(2, [0.       0.010385], [0.5 0.5])],\n",
       " [Hyperopinion(2, [0.       0.008969], [0.5 0.5]),\n",
       "  Hyperopinion(2, [0.       0.008684], [0.5 0.5])],\n",
       " [Hyperopinion(2, [0.       0.007464], [0.5 0.5]),\n",
       "  Hyperopinion(2, [0.       0.007258], [0.5 0.5])],\n",
       " [Hyperopinion(2, [0.       0.006213], [0.5 0.5]),\n",
       "  Hyperopinion(2, [0.       0.006063], [0.5 0.5])],\n",
       " [Hyperopinion(2, [0.       0.005172], [0.5 0.5]),\n",
       "  Hyperopinion(2, [0.       0.005063], [0.5 0.5])],\n",
       " [Hyperopinion(2, [0.       0.004306], [0.5 0.5]),\n",
       "  Hyperopinion(2, [0.       0.004227], [0.5 0.5])],\n",
       " [Hyperopinion(2, [0.       0.003585], [0.5 0.5]),\n",
       "  Hyperopinion(2, [0.       0.003528], [0.5 0.5])],\n",
       " [Hyperopinion(2, [0.       0.002985], [0.5 0.5]),\n",
       "  Hyperopinion(2, [0.       0.002944], [0.5 0.5])],\n",
       " [Hyperopinion(2, [0.       0.002486], [0.5 0.5]),\n",
       "  Hyperopinion(2, [0.       0.002456], [0.5 0.5])],\n",
       " [Hyperopinion(2, [0.      0.00207], [0.5 0.5]),\n",
       "  Hyperopinion(2, [0.       0.002049], [0.5 0.5])],\n",
       " [Hyperopinion(2, [0.       0.001724], [0.5 0.5]),\n",
       "  Hyperopinion(2, [0.       0.001709], [0.5 0.5])],\n",
       " [Hyperopinion(2, [0.       0.001436], [0.5 0.5]),\n",
       "  Hyperopinion(2, [0.       0.001425], [0.5 0.5])],\n",
       " [Hyperopinion(2, [0.       0.001196], [0.5 0.5]),\n",
       "  Hyperopinion(2, [0.       0.001188], [0.5 0.5])],\n",
       " [Hyperopinion(2, [0.       0.000996], [0.5 0.5]),\n",
       "  Hyperopinion(2, [0.       0.000991], [0.5 0.5])],\n",
       " [Hyperopinion(2, [0.      0.00083], [0.5 0.5]),\n",
       "  Hyperopinion(2, [0.       0.000826], [0.5 0.5])],\n",
       " [Hyperopinion(2, [0.       0.000691], [0.5 0.5]),\n",
       "  Hyperopinion(2, [0.       0.000689], [0.5 0.5])],\n",
       " [Hyperopinion(2, [0.       0.000576], [0.5 0.5]),\n",
       "  Hyperopinion(2, [0.       0.000574], [0.5 0.5])],\n",
       " [Hyperopinion(2, [0.      0.00048], [0.5 0.5]),\n",
       "  Hyperopinion(2, [0.       0.000478], [0.5 0.5])],\n",
       " [Hyperopinion(2, [0.     0.0004], [0.5 0.5]),\n",
       "  Hyperopinion(2, [0.       0.000398], [0.5 0.5])],\n",
       " [Hyperopinion(2, [0.       0.000333], [0.5 0.5]),\n",
       "  Hyperopinion(2, [0.       0.000332], [0.5 0.5])],\n",
       " [Hyperopinion(2, [0.       0.000277], [0.5 0.5]),\n",
       "  Hyperopinion(2, [0.       0.000277], [0.5 0.5])]]"
      ]
     },
     "execution_count": 17,
     "metadata": {},
     "output_type": "execute_result"
    }
   ],
   "source": [
    "sl_model_weighted.states"
   ]
  },
  {
   "cell_type": "code",
   "execution_count": 18,
   "metadata": {},
   "outputs": [
    {
     "data": {
      "text/plain": [
       "[[0.4, 0.2], array([0.35, 0.25])]"
      ]
     },
     "execution_count": 18,
     "metadata": {},
     "output_type": "execute_result"
    }
   ],
   "source": [
    "akv_model = AKVModel([0.4, 0.2], [[1, 0.5], [0.5, 1]])\n",
    "akv_model.simulate(1)\n",
    "akv_model.states"
   ]
  },
  {
   "cell_type": "code",
   "execution_count": 19,
   "metadata": {},
   "outputs": [
    {
     "data": {
      "text/plain": [
       "0.6000000000000001"
      ]
     },
     "execution_count": 19,
     "metadata": {},
     "output_type": "execute_result"
    }
   ],
   "source": [
    "0.325+0.275"
   ]
  }
 ],
 "metadata": {
  "interpreter": {
   "hash": "916dbcbb3f70747c44a77c7bcd40155683ae19c65e1c03b4aa3499c5328201f1"
  },
  "kernelspec": {
   "display_name": "Python 3.8.10 64-bit",
   "language": "python",
   "name": "python3"
  },
  "language_info": {
   "codemirror_mode": {
    "name": "ipython",
    "version": 3
   },
   "file_extension": ".py",
   "mimetype": "text/x-python",
   "name": "python",
   "nbconvert_exporter": "python",
   "pygments_lexer": "ipython3",
   "version": "3.10.6 (main, Nov 14 2022, 16:10:14) [GCC 11.3.0]"
  },
  "orig_nbformat": 4
 },
 "nbformat": 4,
 "nbformat_minor": 2
}
