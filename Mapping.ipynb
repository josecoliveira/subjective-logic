{
 "cells": [
  {
   "cell_type": "code",
   "execution_count": 1,
   "id": "170b7b61-06d9-4a78-944b-d9464e728954",
   "metadata": {},
   "outputs": [],
   "source": [
    "%load_ext autoreload\n",
    "%autoreload 2"
   ]
  },
  {
   "cell_type": "code",
   "execution_count": 2,
   "id": "365dff3a-3c78-4970-b581-752fc7d95900",
   "metadata": {},
   "outputs": [],
   "source": [
    "from SubjectiveLogic import Hyperopinion, HyperopinionInterface\n",
    "from SubjectiveLogic import Hyperopinion as W\n",
    "from SubjectiveLogic.BeliefFusion import cumulative_fusion, averaging_fusion, weighted_fusion\n",
    "from SubjectiveLogic.Trust import trust_discount_2e\n",
    "from Model import *"
   ]
  },
  {
   "cell_type": "markdown",
   "id": "e78bd9fc-48e8-47d1-9106-74c378126ed9",
   "metadata": {},
   "source": [
    "# Mapping belief stated to belief mass\n",
    "\n",
    "Using uniform base rate, this mapping create a dogmatic opinion using the belief state and convert it to an epistemic opinion."
   ]
  },
  {
   "cell_type": "code",
   "execution_count": 3,
   "id": "24316aa2-b7c8-48f5-83d4-2b95f3d0a9af",
   "metadata": {},
   "outputs": [
    {
     "name": "stdout",
     "output_type": "stream",
     "text": [
      "Belief state | Belief mass\n",
      "0.1 : [0.  0.8]\n",
      "0.2 : [0.  0.6]\n",
      "0.3 : [0.  0.4]\n",
      "0.4 : [0.  0.2]\n",
      "0.5 : [0. 0.]\n",
      "0.6 : [0.2 0. ]\n",
      "0.7 : [0.4 0. ]\n",
      "0.8 : [0.6 0. ]\n",
      "0.9 : [0.8 0. ]\n"
     ]
    }
   ],
   "source": [
    "print(\"Belief state | Belief mass\") \n",
    "for belief_state in [i * 1/10 for i in range(1, 10)]:\n",
    "    opinion = belief_state_to_opinion(belief_state)\n",
    "    print(belief_state, \":\", opinion.b)"
   ]
  },
  {
   "cell_type": "markdown",
   "id": "708c08fc-38e2-45d6-96ed-28212ce87b68",
   "metadata": {},
   "source": [
    "# Complete trust"
   ]
  },
  {
   "cell_type": "markdown",
   "id": "77fd7806-8a18-4ae8-bf5f-cd93f6286cbb",
   "metadata": {},
   "source": [
    "## AKV model"
   ]
  },
  {
   "cell_type": "code",
   "execution_count": 45,
   "id": "a81ee8b3",
   "metadata": {},
   "outputs": [
    {
     "data": {
      "text/plain": [
       "array([0.7, 0.9])"
      ]
     },
     "execution_count": 45,
     "metadata": {},
     "output_type": "execute_result"
    }
   ],
   "source": [
    "belief_array = [0.5, 0.9]\n",
    "influence_graph = [[1, 0],\n",
    "                   [1, 1]]\n",
    "akv_model = AKVModel(belief_array, influence_graph)\n",
    "sl_model = akv_to_sl(akv_model)\n",
    "akv_model.overall_classic_update()"
   ]
  },
  {
   "cell_type": "markdown",
   "id": "81fa781a-71e4-460a-928f-347d416a73d3",
   "metadata": {},
   "source": [
    "## SL model"
   ]
  },
  {
   "cell_type": "code",
   "execution_count": 46,
   "id": "6327c490",
   "metadata": {},
   "outputs": [
    {
     "data": {
      "text/plain": [
       "[Hyperopinion(2, [0. 0.], [0.5 0.5]), Hyperopinion(2, [0.8 0. ], [0.5 0.5])]"
      ]
     },
     "execution_count": 46,
     "metadata": {},
     "output_type": "execute_result"
    }
   ],
   "source": [
    "sl_model.state"
   ]
  },
  {
   "cell_type": "code",
   "execution_count": 47,
   "id": "dd7affa8",
   "metadata": {},
   "outputs": [
    {
     "data": {
      "text/plain": [
       "[[None, Hyperopinion(2, [1 0], [0.5 0.5])],\n",
       " [Hyperopinion(2, [0 1], [0.5 0.5]), None]]"
      ]
     },
     "execution_count": 47,
     "metadata": {},
     "output_type": "execute_result"
    }
   ],
   "source": [
    "sl_model.trust_graph"
   ]
  },
  {
   "cell_type": "code",
   "execution_count": 48,
   "id": "9ab5bea2",
   "metadata": {},
   "outputs": [
    {
     "data": {
      "text/plain": [
       "[Hyperopinion(2, [0.8 0. ], [0.5 0.5]), Hyperopinion(2, [0.8 0. ], [0.5 0.5])]"
      ]
     },
     "execution_count": 48,
     "metadata": {},
     "output_type": "execute_result"
    }
   ],
   "source": [
    "sl_model.overall_update(cumulative_fusion)"
   ]
  },
  {
   "cell_type": "code",
   "execution_count": 41,
   "id": "0d2fb6d8",
   "metadata": {},
   "outputs": [
    {
     "data": {
      "text/plain": [
       "Hyperopinion(2, [0.4 0. ], [0.5 0.5])"
      ]
     },
     "execution_count": 41,
     "metadata": {},
     "output_type": "execute_result"
    }
   ],
   "source": [
    "belief_state_to_opinion(0.7)"
   ]
  },
  {
   "cell_type": "markdown",
   "id": "ec26c910",
   "metadata": {},
   "source": [
    "## Idempotency"
   ]
  },
  {
   "cell_type": "code",
   "execution_count": 143,
   "id": "3ef38444",
   "metadata": {},
   "outputs": [],
   "source": [
    "belief_array = [0.5, 0.7]\n",
    "influence_graph = [[1, 0],\n",
    "                   [1, 1]]\n",
    "akv_model = AKVModel(belief_array, influence_graph)\n",
    "sl_model = akv_to_sl(akv_model)"
   ]
  },
  {
   "cell_type": "code",
   "execution_count": 144,
   "id": "a62dd6b1",
   "metadata": {},
   "outputs": [
    {
     "data": {
      "text/plain": [
       "[Hyperopinion(2, [0. 0.], [0.5 0.5]), Hyperopinion(2, [0.4 0. ], [0.5 0.5])]"
      ]
     },
     "execution_count": 144,
     "metadata": {},
     "output_type": "execute_result"
    }
   ],
   "source": [
    "sl_model.state"
   ]
  },
  {
   "cell_type": "code",
   "execution_count": 145,
   "id": "2c172844",
   "metadata": {},
   "outputs": [
    {
     "data": {
      "text/plain": [
       "array([0.6, 0.7])"
      ]
     },
     "execution_count": 145,
     "metadata": {},
     "output_type": "execute_result"
    }
   ],
   "source": [
    "akv_model.overall_classic_update()"
   ]
  },
  {
   "cell_type": "code",
   "execution_count": 146,
   "id": "4b40bfee",
   "metadata": {},
   "outputs": [
    {
     "name": "stdout",
     "output_type": "stream",
     "text": [
      "Discount array [Hyperopinion(2, [0. 0.], [0.5 0.5]), Hyperopinion(2, [0.4 0. ], [0.5 0.5])]\n",
      "Discount array [Hyperopinion(2, [0.4 0. ], [0.5 0.5]), Hyperopinion(2, [0. 0.], [0.5 0.5])]\n"
     ]
    },
    {
     "data": {
      "text/plain": [
       "[Hyperopinion(2, [0.4 0. ], [0.5 0.5]), Hyperopinion(2, [0.4 0. ], [0.5 0.5])]"
      ]
     },
     "execution_count": 146,
     "metadata": {},
     "output_type": "execute_result"
    }
   ],
   "source": [
    "sl_model.overall_update(weighted_fusion)"
   ]
  },
  {
   "cell_type": "code",
   "execution_count": 147,
   "id": "f6e72572",
   "metadata": {},
   "outputs": [
    {
     "name": "stdout",
     "output_type": "stream",
     "text": [
      "k = 2\n",
      "            \n",
      "b({0}) = 0.3999999999999999\n",
      "b({1}) = 0.0\n",
      "u = 0.6000000000000001\n",
      "\n",
      "a({0}) = 0.5\n",
      "a({1}) = 0.5\n",
      "\n",
      "P({0}) = 0.7\n",
      "P({1}) = 0.30000000000000004\n"
     ]
    }
   ],
   "source": [
    "print(sl_model.state[0])"
   ]
  },
  {
   "cell_type": "code",
   "execution_count": 148,
   "id": "cc59a8f0",
   "metadata": {},
   "outputs": [
    {
     "data": {
      "text/plain": [
       "[0.7, 0.7]"
      ]
     },
     "execution_count": 148,
     "metadata": {},
     "output_type": "execute_result"
    }
   ],
   "source": [
    "sl_model.belief_array()"
   ]
  },
  {
   "cell_type": "code",
   "execution_count": null,
   "id": "9c020cae",
   "metadata": {},
   "outputs": [],
   "source": []
  }
 ],
 "metadata": {
  "kernelspec": {
   "display_name": "Python 3 (ipykernel)",
   "language": "python",
   "name": "python3"
  },
  "language_info": {
   "codemirror_mode": {
    "name": "ipython",
    "version": 3
   },
   "file_extension": ".py",
   "mimetype": "text/x-python",
   "name": "python",
   "nbconvert_exporter": "python",
   "pygments_lexer": "ipython3",
   "version": "3.8.10"
  }
 },
 "nbformat": 4,
 "nbformat_minor": 5
}
