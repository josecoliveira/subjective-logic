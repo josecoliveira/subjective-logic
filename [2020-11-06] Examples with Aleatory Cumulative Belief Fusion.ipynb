{
 "cells": [
  {
   "cell_type": "code",
   "execution_count": 12,
   "metadata": {},
   "outputs": [],
   "source": [
    "from SubjectiveLogic import Hyperopinion\n",
    "from SubjectiveLogic.BeliefFusion import cumulative_fusion, cumulative_fusion_old\n",
    "from SubjectiveLogic.Trust import trust_discount_2e\n",
    "import numpy as np"
   ]
  },
  {
   "cell_type": "markdown",
   "metadata": {},
   "source": [
    "# Examples"
   ]
  },
  {
   "cell_type": "markdown",
   "metadata": {},
   "source": [
    "## A is totally uncertain"
   ]
  },
  {
   "cell_type": "code",
   "execution_count": 2,
   "metadata": {},
   "outputs": [],
   "source": [
    "AX = Hyperopinion(2, [0, 0])"
   ]
  },
  {
   "cell_type": "markdown",
   "metadata": {},
   "source": [
    "### If A completely trusts B, A will have B's opinion"
   ]
  },
  {
   "cell_type": "code",
   "execution_count": 3,
   "metadata": {},
   "outputs": [],
   "source": [
    "AB = Hyperopinion(2, [1, 0])"
   ]
  },
  {
   "cell_type": "code",
   "execution_count": 4,
   "metadata": {},
   "outputs": [
    {
     "data": {
      "text/plain": [
       "Hyperopinion(2, [1. 0.], [0.5 0.5])"
      ]
     },
     "execution_count": 4,
     "metadata": {},
     "output_type": "execute_result"
    }
   ],
   "source": [
    "BX = Hyperopinion(2, [1, 0])\n",
    "ABX = trust_discount_2e(AB, BX)\n",
    "NewAX = cumulative_fusion([AX, ABX])\n",
    "NewAX"
   ]
  },
  {
   "cell_type": "code",
   "execution_count": 6,
   "metadata": {},
   "outputs": [
    {
     "data": {
      "text/plain": [
       "Hyperopinion(2, [0.5 0.5], [0.5 0.5])"
      ]
     },
     "execution_count": 6,
     "metadata": {},
     "output_type": "execute_result"
    }
   ],
   "source": [
    "BX = Hyperopinion(2, [0.5, 0.5])\n",
    "ABX = trust_discount_2e(AB, BX)\n",
    "NewAX = cumulative_fusion([AX, ABX])\n",
    "NewAX"
   ]
  },
  {
   "cell_type": "code",
   "execution_count": 7,
   "metadata": {},
   "outputs": [
    {
     "data": {
      "text/plain": [
       "Hyperopinion(2, [0. 1.], [0.5 0.5])"
      ]
     },
     "execution_count": 7,
     "metadata": {},
     "output_type": "execute_result"
    }
   ],
   "source": [
    "BX = Hyperopinion(2, [0, 1])\n",
    "ABX = trust_discount_2e(AB, BX)\n",
    "NewAX = cumulative_fusion([AX, ABX])\n",
    "NewAX"
   ]
  },
  {
   "cell_type": "markdown",
   "metadata": {},
   "source": [
    "### If A has some trust in B, then A will have a \"part\" of B's opinion"
   ]
  },
  {
   "cell_type": "code",
   "execution_count": 17,
   "metadata": {},
   "outputs": [
    {
     "data": {
      "text/plain": [
       "Hyperopinion(2, [0 0], [0.5 0.5])"
      ]
     },
     "execution_count": 17,
     "metadata": {},
     "output_type": "execute_result"
    }
   ],
   "source": [
    "AX"
   ]
  },
  {
   "cell_type": "code",
   "execution_count": 18,
   "metadata": {},
   "outputs": [],
   "source": [
    "AB = Hyperopinion(2, [0.7, 0.3])"
   ]
  },
  {
   "cell_type": "code",
   "execution_count": 21,
   "metadata": {},
   "outputs": [
    {
     "data": {
      "text/plain": [
       "Hyperopinion(2, [0.7 0. ], [0.5 0.5])"
      ]
     },
     "execution_count": 21,
     "metadata": {},
     "output_type": "execute_result"
    }
   ],
   "source": [
    "BX = Hyperopinion(2, [1, 0])\n",
    "ABX = trust_discount_2e(AB, BX)\n",
    "AABX = cumulative_fusion([AX, ABX])\n",
    "AABX"
   ]
  },
  {
   "cell_type": "code",
   "execution_count": 24,
   "metadata": {},
   "outputs": [
    {
     "data": {
      "text/plain": [
       "Hyperopinion(2, [0.35 0.35], [0.5 0.5])"
      ]
     },
     "execution_count": 24,
     "metadata": {},
     "output_type": "execute_result"
    }
   ],
   "source": [
    "BX = Hyperopinion(2, [0.5, 0.5])\n",
    "ABX = trust_discount_2e(AB, BX)\n",
    "AABX = cumulative_fusion([AX, ABX])\n",
    "AABX"
   ]
  },
  {
   "cell_type": "markdown",
   "metadata": {},
   "source": [
    "### If A is completely uncertain about trusting B, then base rate distribution takes place"
   ]
  },
  {
   "cell_type": "markdown",
   "metadata": {},
   "source": [
    "\"I know nothing about B, but everyone says that he is 0.5 *trustworthy* and 0.5 *untrustworthy*\""
   ]
  },
  {
   "cell_type": "code",
   "execution_count": 25,
   "metadata": {},
   "outputs": [
    {
     "data": {
      "text/plain": [
       "Hyperopinion(2, [0 0], [0.5 0.5])"
      ]
     },
     "execution_count": 25,
     "metadata": {},
     "output_type": "execute_result"
    }
   ],
   "source": [
    "AX"
   ]
  },
  {
   "cell_type": "code",
   "execution_count": 26,
   "metadata": {},
   "outputs": [],
   "source": [
    "AB = Hyperopinion(2, [0, 0])"
   ]
  },
  {
   "cell_type": "code",
   "execution_count": 27,
   "metadata": {},
   "outputs": [
    {
     "data": {
      "text/plain": [
       "Hyperopinion(2, [0.5 0. ], [0.5 0.5])"
      ]
     },
     "execution_count": 27,
     "metadata": {},
     "output_type": "execute_result"
    }
   ],
   "source": [
    "BX = Hyperopinion(2, [1, 0])\n",
    "ABX = trust_discount_2e(AB, BX)\n",
    "AABX = cumulative_fusion([AX, ABX])\n",
    "AABX"
   ]
  },
  {
   "cell_type": "code",
   "execution_count": 28,
   "metadata": {},
   "outputs": [
    {
     "data": {
      "text/plain": [
       "Hyperopinion(2, [0.25 0.25], [0.5 0.5])"
      ]
     },
     "execution_count": 28,
     "metadata": {},
     "output_type": "execute_result"
    }
   ],
   "source": [
    "BX = Hyperopinion(2, [0.5, 0.5])\n",
    "ABX = trust_discount_2e(AB, BX)\n",
    "AABX = cumulative_fusion([AX, ABX])\n",
    "AABX"
   ]
  },
  {
   "cell_type": "markdown",
   "metadata": {},
   "source": [
    "### A trusts B and C completely, B and C the same opinion with NO uncertainty, then B and C have the same opinion"
   ]
  },
  {
   "cell_type": "code",
   "execution_count": 29,
   "metadata": {},
   "outputs": [
    {
     "data": {
      "text/plain": [
       "Hyperopinion(2, [0 0], [0.5 0.5])"
      ]
     },
     "execution_count": 29,
     "metadata": {},
     "output_type": "execute_result"
    }
   ],
   "source": [
    "AX"
   ]
  },
  {
   "cell_type": "code",
   "execution_count": 30,
   "metadata": {},
   "outputs": [],
   "source": [
    "AB = Hyperopinion(2, [1, 0])\n",
    "AC = Hyperopinion(2, [1, 0])"
   ]
  },
  {
   "cell_type": "code",
   "execution_count": 31,
   "metadata": {},
   "outputs": [],
   "source": [
    "BX = Hyperopinion(2, [0.7, 0.3])\n",
    "CX = Hyperopinion(2, [0.7, 0.3])"
   ]
  },
  {
   "cell_type": "code",
   "execution_count": 32,
   "metadata": {},
   "outputs": [
    {
     "data": {
      "text/plain": [
       "Hyperopinion(2, [0.7 0.3], [0.5 0.5])"
      ]
     },
     "execution_count": 32,
     "metadata": {},
     "output_type": "execute_result"
    }
   ],
   "source": [
    "ABX = trust_discount_2e(AB, BX)\n",
    "ACX = trust_discount_2e(AC, CX)\n",
    "NewA = cumulative_fusion([AX, ABX, ACX])\n",
    "NewA"
   ]
  },
  {
   "cell_type": "markdown",
   "metadata": {},
   "source": [
    "### A trusts B and C completely, B and C the same opinion WITH uncertainty, then A has the same opinion of B and C"
   ]
  },
  {
   "cell_type": "code",
   "execution_count": 33,
   "metadata": {},
   "outputs": [
    {
     "data": {
      "text/plain": [
       "Hyperopinion(2, [0 0], [0.5 0.5])"
      ]
     },
     "execution_count": 33,
     "metadata": {},
     "output_type": "execute_result"
    }
   ],
   "source": [
    "AX"
   ]
  },
  {
   "cell_type": "code",
   "execution_count": 34,
   "metadata": {},
   "outputs": [],
   "source": [
    "AB = Hyperopinion(2, [1, 0])\n",
    "AC = Hyperopinion(2, [1, 0])"
   ]
  },
  {
   "cell_type": "markdown",
   "metadata": {},
   "source": [
    "B and C are 0.7 sure that Biden will win the race, but they are not sure about 0.3."
   ]
  },
  {
   "cell_type": "code",
   "execution_count": 35,
   "metadata": {},
   "outputs": [],
   "source": [
    "BX = Hyperopinion(2, [0.7, 0])\n",
    "CX = Hyperopinion(2, [0.7, 0])"
   ]
  },
  {
   "cell_type": "code",
   "execution_count": 36,
   "metadata": {},
   "outputs": [
    {
     "data": {
      "text/plain": [
       "Hyperopinion(2, [0.82352941 0.        ], [0.5 0.5])"
      ]
     },
     "execution_count": 36,
     "metadata": {},
     "output_type": "execute_result"
    }
   ],
   "source": [
    "ABX = trust_discount_2e(AB, BX)\n",
    "ACX = trust_discount_2e(AC, CX)\n",
    "NewAX = cumulative_fusion([AX, ABX, ACX])\n",
    "NewAX"
   ]
  },
  {
   "cell_type": "markdown",
   "metadata": {},
   "source": [
    "### A trusts completely B and C, B and C disagree completely and totaly certain"
   ]
  },
  {
   "cell_type": "code",
   "execution_count": 37,
   "metadata": {},
   "outputs": [
    {
     "data": {
      "text/plain": [
       "Hyperopinion(2, [0 0], [0.5 0.5])"
      ]
     },
     "execution_count": 37,
     "metadata": {},
     "output_type": "execute_result"
    }
   ],
   "source": [
    "AX"
   ]
  },
  {
   "cell_type": "code",
   "execution_count": 38,
   "metadata": {},
   "outputs": [],
   "source": [
    "AB = Hyperopinion(2, [1, 0])\n",
    "AC = Hyperopinion(2, [1, 0])"
   ]
  },
  {
   "cell_type": "markdown",
   "metadata": {},
   "source": [
    "B is 100% sure that Biden will win. C is 100% that Biden will lose."
   ]
  },
  {
   "cell_type": "code",
   "execution_count": 39,
   "metadata": {},
   "outputs": [],
   "source": [
    "BX = Hyperopinion(2, [1, 0])\n",
    "CX = Hyperopinion(2, [0, 1])"
   ]
  },
  {
   "cell_type": "code",
   "execution_count": 40,
   "metadata": {},
   "outputs": [],
   "source": [
    "ABX = trust_discount_2e(AB, BX)\n",
    "ACX = trust_discount_2e(AC, CX)"
   ]
  },
  {
   "cell_type": "code",
   "execution_count": 41,
   "metadata": {},
   "outputs": [
    {
     "data": {
      "text/plain": [
       "Hyperopinion(2, [0.5 0.5], [0.5 0.5])"
      ]
     },
     "execution_count": 41,
     "metadata": {},
     "output_type": "execute_result"
    }
   ],
   "source": [
    "NewAX = cumulative_fusion([AX, ABX, ACX])\n",
    "NewAX"
   ]
  },
  {
   "cell_type": "markdown",
   "metadata": {},
   "source": [
    "## A is certain of a state of X, B has any opinion, then fusion between A and B happens anyway."
   ]
  },
  {
   "cell_type": "markdown",
   "metadata": {},
   "source": [
    "Should A ignore B, because A is completely certain of their opinion?"
   ]
  },
  {
   "cell_type": "code",
   "execution_count": 42,
   "metadata": {},
   "outputs": [],
   "source": [
    "AX = Hyperopinion(2, [1, 0])\n",
    "BX = Hyperopinion(2, [0, 1])"
   ]
  },
  {
   "cell_type": "markdown",
   "metadata": {},
   "source": [
    "### A completely trusts B"
   ]
  },
  {
   "cell_type": "code",
   "execution_count": 43,
   "metadata": {},
   "outputs": [
    {
     "data": {
      "text/plain": [
       "Hyperopinion(2, [0.5 0.5], [0.5 0.5])"
      ]
     },
     "execution_count": 43,
     "metadata": {},
     "output_type": "execute_result"
    }
   ],
   "source": [
    "AB = Hyperopinion(2, [1, 0])\n",
    "ABX = trust_discount_2e(AB, BX)\n",
    "NewAX = cumulative_fusion([AX, ABX])\n",
    "NewAX"
   ]
  },
  {
   "cell_type": "markdown",
   "metadata": {},
   "source": [
    "### A trusts B by 0.5 and distrusts by 0.5\n"
   ]
  },
  {
   "cell_type": "code",
   "execution_count": 47,
   "metadata": {},
   "outputs": [
    {
     "data": {
      "text/plain": [
       "Hyperopinion(2, [1. 0.], [0.5 0.5])"
      ]
     },
     "execution_count": 47,
     "metadata": {},
     "output_type": "execute_result"
    }
   ],
   "source": [
    "AB = Hyperopinion(2, [0.5, 0.5])\n",
    "ABX = trust_discount_2e(AB, BX)\n",
    "NewAX = cumulative_fusion([AX, ABX])\n",
    "NewAX"
   ]
  },
  {
   "cell_type": "markdown",
   "metadata": {},
   "source": [
    "Why? Because ABX has uncertainty and AX doesn't. It means that AX has an infinity abount of evidence."
   ]
  },
  {
   "cell_type": "markdown",
   "metadata": {},
   "source": [
    "### A trusts B and C, A is certain, B and C is certain and disagree\n",
    "\n",
    "A and B are certain that Biden will win. C is certain that Biden will lose."
   ]
  },
  {
   "cell_type": "code",
   "execution_count": 48,
   "metadata": {},
   "outputs": [],
   "source": [
    "AX = Hyperopinion(2, [1, 0])\n",
    "BX = Hyperopinion(2, [1, 0])\n",
    "CX = Hyperopinion(2, [0, 1])"
   ]
  },
  {
   "cell_type": "markdown",
   "metadata": {},
   "source": [
    "A trusts B and C, but A want to learn what B and C has to say"
   ]
  },
  {
   "cell_type": "code",
   "execution_count": 49,
   "metadata": {},
   "outputs": [],
   "source": [
    "AB = Hyperopinion(2, [1, 0])\n",
    "AC = Hyperopinion(2, [1, 0])"
   ]
  },
  {
   "cell_type": "code",
   "execution_count": 50,
   "metadata": {},
   "outputs": [
    {
     "data": {
      "text/plain": [
       "Hyperopinion(2, [0.66666667 0.33333333], [0.5 0.5])"
      ]
     },
     "execution_count": 50,
     "metadata": {},
     "output_type": "execute_result"
    }
   ],
   "source": [
    "ABX = trust_discount_2e(AB, BX)\n",
    "ACX = trust_discount_2e(AC, CX)\n",
    "NewAX = cumulative_fusion([AX, ABX, ACX])\n",
    "NewAX"
   ]
  }
 ],
 "metadata": {
  "kernelspec": {
   "display_name": "Python 3",
   "language": "python",
   "name": "python3"
  },
  "language_info": {
   "codemirror_mode": {
    "name": "ipython",
    "version": 3
   },
   "file_extension": ".py",
   "mimetype": "text/x-python",
   "name": "python",
   "nbconvert_exporter": "python",
   "pygments_lexer": "ipython3",
   "version": "3.9.1"
  }
 },
 "nbformat": 4,
 "nbformat_minor": 4
}
